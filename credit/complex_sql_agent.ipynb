{
 "cells": [
  {
   "cell_type": "markdown",
   "id": "99480c62",
   "metadata": {},
   "source": [
    "\n",
    "# 🤖 Using SQL Agents for Complex Queries with LangChain\n",
    "\n",
    "This notebook builds upon the basic SQL Agent setup to demonstrate how to handle more complex and nuanced questions using LangChain. We'll leverage the same SQLite database but focus on multi-step and detailed queries.\n",
    "\n",
    "### 🌟 Objectives:\n",
    "- 🔗 Expand on the basic SQL Agent functionality.\n",
    "- 🧩 Learn to handle longer, multi-step queries.\n",
    "- 📊 Showcase the agent's ability to answer complex questions from the database.\n",
    "    "
   ]
  },
  {
   "cell_type": "markdown",
   "id": "e9a11c69",
   "metadata": {},
   "source": [
    "\n",
    "## 🛠️ Step 1: Import Libraries\n",
    "\n",
    "To start, we'll import the libraries needed to create and use the SQL Agent:\n",
    "- `langchain.agents`: For creating and managing the SQL agent.\n",
    "- `sqlite3`: Enables interaction with our SQLite database.\n",
    "- `langchain.chat_models`: Provides access to OpenAI's chat models.\n",
    "- `langchain.sql_database`: Simplifies handling SQL databases.\n",
    "\n",
    "💡 **Tip:** Ensure all required libraries are installed in your environment by running `pip install langchain sqlite3`.\n",
    "    "
   ]
  },
  {
   "cell_type": "code",
   "execution_count": 32,
   "id": "e10c7e71",
   "metadata": {},
   "outputs": [],
   "source": [
    "import os \n",
    "import pandas as pd\n",
    "from dotenv import  load_dotenv\n",
    "from langchain.agents import create_sql_agent\n",
    "import sqlite3\n",
    "from pprint import pprint\n",
    "from langchain.chat_models import ChatOpenAI\n",
    "from langchain.sql_database import SQLDatabase"
   ]
  },
  {
   "cell_type": "markdown",
   "id": "4444a223",
   "metadata": {},
   "source": [
    "📝 **Observation:** The libraries were successfully imported, and all required dependencies are ready for use."
   ]
  },
  {
   "cell_type": "code",
   "execution_count": 2,
   "id": "697dbe94",
   "metadata": {},
   "outputs": [],
   "source": [
    "load_dotenv()\n",
    "api_key = os.getenv('OPENAI_API_KEY')"
   ]
  },
  {
   "cell_type": "markdown",
   "id": "6de28aab",
   "metadata": {},
   "source": [
    "🗂️ **Database Setup:** The SQLite database was initialized successfully, allowing interaction through the SQL Agent."
   ]
  },
  {
   "cell_type": "markdown",
   "id": "a7638813",
   "metadata": {},
   "source": [
    "\n",
    "## 🗂️ Step 2: Set Up the Database\n",
    "\n",
    "Here, we define the path to our SQLite database and initialize the `SQLDatabase` object. This object enables LangChain to interact seamlessly with the database.\n",
    "\n",
    "🔍 **Note:** Ensure your database file exists at the specified path and contains relevant tables and data.\n",
    "    "
   ]
  },
  {
   "cell_type": "code",
   "execution_count": 5,
   "id": "5d114d5d",
   "metadata": {},
   "outputs": [],
   "source": [
    "\n",
    "db_path = \"mock_bank_data.sqlite\"\n",
    "db = SQLDatabase.from_uri(f\"sqlite:///{db_path}\")\n"
   ]
  },
  {
   "cell_type": "markdown",
   "id": "db3ed576",
   "metadata": {},
   "source": [
    "🤖 **Model Initialization:** OpenAI's GPT-3.5-turbo model is now ready for generating consistent and deterministic outputs."
   ]
  },
  {
   "cell_type": "code",
   "execution_count": 7,
   "id": "17a39c7d",
   "metadata": {},
   "outputs": [
    {
     "name": "stdout",
     "output_type": "stream",
     "text": [
      "['Accounts', 'Cost_of_Capital', 'Customers', 'Installments', 'Products', 'Transactions']\n"
     ]
    }
   ],
   "source": [
    "tables = db.get_usable_table_names()\n",
    "print(tables)"
   ]
  },
  {
   "cell_type": "markdown",
   "id": "f4c97514",
   "metadata": {},
   "source": [
    "🗂️ **Output:** This displays a list of table names that the SQL Agent can interact with. These tables form the foundation for all subsequent queries."
   ]
  },
  {
   "cell_type": "markdown",
   "id": "489788c9",
   "metadata": {},
   "source": [
    "🔧 **Agent Created:** The SQL Agent has been set up to bridge natural language queries with the database."
   ]
  },
  {
   "cell_type": "code",
   "execution_count": 9,
   "id": "801e4ebe",
   "metadata": {},
   "outputs": [
    {
     "name": "stdout",
     "output_type": "stream",
     "text": [
      "\n",
      "CREATE TABLE \"Accounts\" (\n",
      "\t\"Account_ID\" INTEGER, \n",
      "\t\"Customer_ID\" INTEGER, \n",
      "\t\"Account_Type\" TEXT, \n",
      "\t\"Account_Status\" TEXT, \n",
      "\t\"Account_Open_Date\" DATE, \n",
      "\t\"Balance\" REAL, \n",
      "\t\"Interest_Rate\" REAL, \n",
      "\tPRIMARY KEY (\"Account_ID\"), \n",
      "\tFOREIGN KEY(\"Customer_ID\") REFERENCES \"Customers\" (\"Customer_ID\")\n",
      ")\n",
      "\n",
      "/*\n",
      "3 rows from Accounts table:\n",
      "Account_ID\tCustomer_ID\tAccount_Type\tAccount_Status\tAccount_Open_Date\tBalance\tInterest_Rate\n",
      "1\t1\tChecking\tClosed\t2015-04-12\t24053.91\t1.67\n",
      "2\t2\tChecking\tOpen\t2022-12-18\t70048.68\t2.56\n",
      "3\t2\tSavings\tClosed\t2018-06-07\t76929.36\t0.87\n",
      "*/\n",
      "\n",
      "\n",
      "CREATE TABLE \"Cost_of_Capital\" (\n",
      "\t\"Date\" DATE, \n",
      "\t\"Cost_of_Capital\" REAL, \n",
      "\t\"Base_Rate\" REAL, \n",
      "\t\"Spread\" REAL, \n",
      "\tPRIMARY KEY (\"Date\")\n",
      ")\n",
      "\n",
      "/*\n",
      "3 rows from Cost_of_Capital table:\n",
      "Date\tCost_of_Capital\tBase_Rate\tSpread\n",
      "2023-02-08\t1.86\t1.57\t1.44\n",
      "2018-07-28\t7.96\t0.91\t1.06\n",
      "2024-01-17\t9.6\t4.28\t1.35\n",
      "*/\n",
      "\n",
      "\n",
      "CREATE TABLE \"Customers\" (\n",
      "\t\"Customer_ID\" INTEGER, \n",
      "\t\"Name\" TEXT NOT NULL, \n",
      "\t\"Date_of_Birth\" DATE, \n",
      "\t\"Gender\" TEXT, \n",
      "\t\"Address\" TEXT, \n",
      "\t\"Phone_Number\" TEXT, \n",
      "\t\"Email\" TEXT, \n",
      "\t\"Account_Open_Date\" DATE, \n",
      "\t\"Relationship_Status\" TEXT, \n",
      "\t\"Risk_Score\" INTEGER, \n",
      "\tPRIMARY KEY (\"Customer_ID\")\n",
      ")\n",
      "\n",
      "/*\n",
      "3 rows from Customers table:\n",
      "Customer_ID\tName\tDate_of_Birth\tGender\tAddress\tPhone_Number\tEmail\tAccount_Open_Date\tRelationship_Status\tRisk_Score\n",
      "1\tJoshua Bray\t1968-02-20\tMale\t3067 Garcia Streets Suite 622\n",
      "West Jasonville, FM 98612\t369-828-0465x53797\tNone\t2015-03-22\tInactive\t77\n",
      "2\tBenjamin Garcia\t1959-11-07\tFemale\t0073 Jordan Common Suite 890\n",
      "North Taylor, PA 74708\tNone\twarnerjennifer@example.net\t2018-07-31\tActive\t46\n",
      "3\tWendy Rose\t1981-04-08\tMale\t77063 Howard Plains Suite 040\n",
      "Evansland, ND 93707\t001-738-558-7403x783\tgmontes@example.com\t2016-02-26\tInactive\t20\n",
      "*/\n",
      "\n",
      "\n",
      "CREATE TABLE \"Installments\" (\n",
      "\t\"Installment_ID\" INTEGER, \n",
      "\t\"Account_ID\" INTEGER, \n",
      "\t\"Product_ID\" INTEGER, \n",
      "\t\"Installment_Start_Date\" DATE, \n",
      "\t\"Installment_End_Date\" DATE, \n",
      "\t\"Installment_Amount\" REAL, \n",
      "\t\"Paid_Amount\" REAL, \n",
      "\t\"Remaining_Balance\" REAL, \n",
      "\tPRIMARY KEY (\"Installment_ID\"), \n",
      "\tFOREIGN KEY(\"Account_ID\") REFERENCES \"Accounts\" (\"Account_ID\"), \n",
      "\tFOREIGN KEY(\"Product_ID\") REFERENCES \"Products\" (\"Product_ID\")\n",
      ")\n",
      "\n",
      "/*\n",
      "3 rows from Installments table:\n",
      "Installment_ID\tAccount_ID\tProduct_ID\tInstallment_Start_Date\tInstallment_End_Date\tInstallment_Amount\tPaid_Amount\tRemaining_Balance\n",
      "1\t41\tThey Product\t2023-11-19\t2026-01-15\t4511.39\t1334.05\t3177.34\n",
      "2\t64\tFire Product\t2022-02-15\t2023-09-06\t3963.75\t695.57\t3268.18\n",
      "3\t59\tSmall Product\t2024-12-30\t2025-11-13\t3345.94\tNone\t3345.94\n",
      "*/\n",
      "\n",
      "\n",
      "CREATE TABLE \"Products\" (\n",
      "\t\"Product_ID\" INTEGER, \n",
      "\t\"Product_Name\" TEXT, \n",
      "\t\"Product_Type\" TEXT, \n",
      "\t\"Interest_Rate\" REAL, \n",
      "\t\"Fees\" REAL, \n",
      "\t\"Launch_Date\" DATE, \n",
      "\t\"End_Date\" DATE, \n",
      "\tPRIMARY KEY (\"Product_ID\")\n",
      ")\n",
      "\n",
      "/*\n",
      "3 rows from Products table:\n",
      "Product_ID\tProduct_Name\tProduct_Type\tInterest_Rate\tFees\tLaunch_Date\tEnd_Date\n",
      "1\tThey Product\tCredit Card\t14.53\t222.85\t2022-09-02\t2028-09-19\n",
      "2\tBaby Product\tLoan\t7.62\t144.82\t2023-03-13\t2027-02-14\n",
      "3\tGas Product\tLoan\t5.53\t100.42\t2017-06-09\tNone\n",
      "*/\n",
      "\n",
      "\n",
      "CREATE TABLE \"Transactions\" (\n",
      "\t\"Transaction_ID\" INTEGER, \n",
      "\t\"Account_ID\" INTEGER, \n",
      "\t\"Transaction_Date\" DATE, \n",
      "\t\"Transaction_Type\" TEXT, \n",
      "\t\"Amount\" REAL, \n",
      "\t\"Balance_After_Transaction\" REAL, \n",
      "\t\"Merchant_Details\" TEXT, \n",
      "\tPRIMARY KEY (\"Transaction_ID\"), \n",
      "\tFOREIGN KEY(\"Account_ID\") REFERENCES \"Accounts\" (\"Account_ID\")\n",
      ")\n",
      "\n",
      "/*\n",
      "3 rows from Transactions table:\n",
      "Transaction_ID\tAccount_ID\tTransaction_Date\tTransaction_Type\tAmount\tBalance_After_Transaction\tMerchant_Details\n",
      "1\t57\t2020-06-23\tWithdrawal\t7812.6\t66243.04\tNone\n",
      "2\t11\t2021-01-04\tPayment\t13.63\t58010.88\tClark-Leonard\n",
      "3\t82\t2023-04-14\tPayment\t2328.71\t51215.14\tDelgado-Clark\n",
      "*/\n"
     ]
    }
   ],
   "source": [
    "print(db.get_table_info(tables))"
   ]
  },
  {
   "cell_type": "markdown",
   "id": "12bd7f1d",
   "metadata": {},
   "source": [
    "📄 **Output:** This shows detailed information about the database tables, including their column names, types, and constraints. Understanding the table structure is crucial for writing effective queries."
   ]
  },
  {
   "cell_type": "markdown",
   "id": "64fc0a12",
   "metadata": {},
   "source": [
    "📊 **Query Results:** These results demonstrate the SQL Agent's ability to process complex queries and return precise, actionable insights."
   ]
  },
  {
   "cell_type": "markdown",
   "id": "84604909",
   "metadata": {},
   "source": [
    "\n",
    "## 🧠 Step 3: Initialize the Language Model\n",
    "\n",
    "We'll use OpenAI's GPT-3.5-turbo model with a temperature of 0.0 to ensure deterministic responses. This setting is crucial for consistent and repeatable outputs.\n",
    "\n",
    "⚠️ **Warning:** Keep your OpenAI API key secure and avoid hardcoding it into public notebooks.\n",
    "    "
   ]
  },
  {
   "cell_type": "code",
   "execution_count": 10,
   "id": "101abceb",
   "metadata": {},
   "outputs": [
    {
     "name": "stderr",
     "output_type": "stream",
     "text": [
      "C:\\Users\\nande\\AppData\\Local\\Temp\\ipykernel_17404\\1225325312.py:1: LangChainDeprecationWarning: The class `ChatOpenAI` was deprecated in LangChain 0.0.10 and will be removed in 1.0. An updated version of the class exists in the :class:`~langchain-openai package and should be used instead. To use it run `pip install -U :class:`~langchain-openai` and import as `from :class:`~langchain_openai import ChatOpenAI``.\n",
      "  llm = ChatOpenAI(model=\"gpt-3.5-turbo\", temperature=0.0, api_key=api_key)\n"
     ]
    }
   ],
   "source": [
    "llm = ChatOpenAI(model=\"gpt-3.5-turbo\", temperature=0.0, api_key=api_key)"
   ]
  },
  {
   "cell_type": "markdown",
   "id": "a9609f36",
   "metadata": {},
   "source": [
    "📈 **Insights:** The trends in interest rates reveal actionable patterns for financial analysis."
   ]
  },
  {
   "cell_type": "markdown",
   "id": "45e9763f",
   "metadata": {},
   "source": [
    "\n",
    "## 🤝 Step 4: Create the SQL Agent\n",
    "\n",
    "By combining the LLM (Language Model) with the database, we create an SQL Agent. This agent translates natural language queries into SQL commands, executes them, and returns results.\n",
    "\n",
    "💡 **Behind the Scenes:** The agent uses LangChain's parsing capabilities to analyze the query, generate SQL, and interact with the database.\n",
    "    "
   ]
  },
  {
   "cell_type": "code",
   "execution_count": 24,
   "id": "5869a7a4",
   "metadata": {},
   "outputs": [],
   "source": [
    "sql_agent = create_sql_agent(\n",
    "        llm=llm,\n",
    "        db=db,\n",
    "        agent_type=\"openai-tools\",\n",
    "        verbose=True,\n",
    "        agent_executor_kwargs = {\"return_intermediate_steps\": True}\n",
    "    )"
   ]
  },
  {
   "cell_type": "markdown",
   "id": "96a4dcfc",
   "metadata": {},
   "source": [
    "💡 **High-Value Customers Identified:** The SQL Agent effectively ranks customers based on loan amounts and computes relevant statistics."
   ]
  },
  {
   "cell_type": "markdown",
   "id": "16b4881d",
   "metadata": {},
   "source": [
    "\n",
    "## 🚀 Step 5: Run Complex Queries\n",
    "\n",
    "Here are some examples of complex queries you can execute with the SQL Agent:\n",
    "\n",
    "1️⃣ **Query**: What is the total monetary value of transactions for customers who have overdue days > 60 and belong to the \"Premium\" category?  \n",
    "   - 📊 **Purpose**: Identify key contributors to overdue payments.\n",
    "\n",
    "2️⃣ **Query**: How has the average interest rate changed over time for different product types?  \n",
    "   - 🔍 **Purpose**: Analyze trends in interest rates.\n",
    "\n",
    "3️⃣ **Query**: Can you identify the top 5 customers with the highest loan amounts and provide their average interest rates?  \n",
    "   - 🧮 **Purpose**: Pinpoint high-value customers and their financial impact.\n",
    "    "
   ]
  },
  {
   "cell_type": "code",
   "execution_count": 26,
   "id": "e7fbf4c3",
   "metadata": {},
   "outputs": [
    {
     "name": "stdout",
     "output_type": "stream",
     "text": [
      "\n",
      "\n",
      "\u001b[1m> Entering new SQL Agent Executor chain...\u001b[0m\n",
      "\u001b[32;1m\u001b[1;3m\n",
      "Invoking: `sql_db_list_tables` with `{}`\n",
      "\n",
      "\n",
      "\u001b[0m\u001b[38;5;200m\u001b[1;3mAccounts, Cost_of_Capital, Customers, Installments, Products, Transactions\u001b[0m\u001b[32;1m\u001b[1;3m\n",
      "Invoking: `sql_db_schema` with `{'table_names': 'Customers, Transactions'}`\n",
      "\n",
      "\n",
      "\u001b[0m\u001b[33;1m\u001b[1;3m\n",
      "CREATE TABLE \"Customers\" (\n",
      "\t\"Customer_ID\" INTEGER, \n",
      "\t\"Name\" TEXT NOT NULL, \n",
      "\t\"Date_of_Birth\" DATE, \n",
      "\t\"Gender\" TEXT, \n",
      "\t\"Address\" TEXT, \n",
      "\t\"Phone_Number\" TEXT, \n",
      "\t\"Email\" TEXT, \n",
      "\t\"Account_Open_Date\" DATE, \n",
      "\t\"Relationship_Status\" TEXT, \n",
      "\t\"Risk_Score\" INTEGER, \n",
      "\tPRIMARY KEY (\"Customer_ID\")\n",
      ")\n",
      "\n",
      "/*\n",
      "3 rows from Customers table:\n",
      "Customer_ID\tName\tDate_of_Birth\tGender\tAddress\tPhone_Number\tEmail\tAccount_Open_Date\tRelationship_Status\tRisk_Score\n",
      "1\tTimothy Smith\t1985-04-16\tFemale\tUnit 6781 Box 1250\n",
      "DPO AA 51307\t001-569-821-4142x7525\tNone\t2019-02-19\tInactive\t19\n",
      "2\tKevin Jones\t1989-10-17\tFemale\t3051 Kennedy Keys Suite 448\n",
      "West Michele, PR 17554\tNone\tNone\t2021-12-04\tActive\t5\n",
      "3\tCheryl Baxter\t1949-05-04\tMale\t748 Joshua Points Suite 862\n",
      "East Cassandraburgh, IN 57597\tNone\tomartinez@example.net\t2019-11-25\tClosed\t34\n",
      "*/\n",
      "\n",
      "\n",
      "CREATE TABLE \"Transactions\" (\n",
      "\t\"Transaction_ID\" INTEGER, \n",
      "\t\"Account_ID\" INTEGER, \n",
      "\t\"Transaction_Date\" DATE, \n",
      "\t\"Transaction_Type\" TEXT, \n",
      "\t\"Amount\" REAL, \n",
      "\t\"Balance_After_Transaction\" REAL, \n",
      "\t\"Merchant_Details\" TEXT, \n",
      "\tPRIMARY KEY (\"Transaction_ID\"), \n",
      "\tFOREIGN KEY(\"Account_ID\") REFERENCES \"Accounts\" (\"Account_ID\")\n",
      ")\n",
      "\n",
      "/*\n",
      "3 rows from Transactions table:\n",
      "Transaction_ID\tAccount_ID\tTransaction_Date\tTransaction_Type\tAmount\tBalance_After_Transaction\tMerchant_Details\n",
      "1\t13\t2024-01-28\tWithdrawal\t5863.07\t69995.39\tNone\n",
      "2\t54\t2021-03-09\tDeposit\t3134.4\t70049.46\tAnderson, Fuentes and Golden\n",
      "3\t5\t2024-04-20\tPayment\t4241.78\t56376.13\tCox, Carrillo and Long\n",
      "*/\u001b[0m\u001b[32;1m\u001b[1;3m\n",
      "Invoking: `sql_db_query` with `{'query': \"SELECT SUM(t.Amount) AS Total_Outstanding_Value\\nFROM Customers c\\nJOIN Transactions t ON c.Customer_ID = t.Account_ID\\nWHERE c.Relationship_Status = 'Active'\\nAND julianday('now') - julianday(t.Transaction_Date) > 60\"}`\n",
      "responded: To find the total outstanding monetary value of transactions for customers who have overdue days > 60 and belong to the active group, we need to join the Customers and Transactions tables based on the Account_ID and Customer_ID columns. We can then filter the results based on the conditions mentioned.\n",
      "\n",
      "Here is the SQL query to achieve this:\n",
      "\n",
      "```sql\n",
      "SELECT SUM(t.Amount) AS Total_Outstanding_Value\n",
      "FROM Customers c\n",
      "JOIN Transactions t ON c.Customer_ID = t.Account_ID\n",
      "WHERE c.Relationship_Status = 'Active'\n",
      "AND julianday('now') - julianday(t.Transaction_Date) > 60\n",
      "```\n",
      "\n",
      "I will now execute this query to find the total outstanding monetary value of transactions for customers who have overdue days > 60 and belong to the active group.\n",
      "\n",
      "\u001b[0m\u001b[36;1m\u001b[1;3m[(1567985.08,)]\u001b[0m\u001b[32;1m\u001b[1;3mThe total outstanding monetary value of transactions for customers who have overdue days > 60 and belong to the active group is $1,567,985.08.\u001b[0m\n",
      "\n",
      "\u001b[1m> Finished chain.\u001b[0m\n",
      "{'input': 'What is the total outstanding monetary value of transactions for customers who have overdue days > 60 and belong to active group?', 'output': 'The total outstanding monetary value of transactions for customers who have overdue days > 60 and belong to the active group is $1,567,985.08.', 'intermediate_steps': [(ToolAgentAction(tool='sql_db_list_tables', tool_input={}, log='\\nInvoking: `sql_db_list_tables` with `{}`\\n\\n\\n', message_log=[AIMessageChunk(content='', additional_kwargs={'tool_calls': [{'index': 0, 'id': 'call_szZfy6Kv4u4f94zl4saRqFdV', 'function': {'arguments': '{}', 'name': 'sql_db_list_tables'}, 'type': 'function'}]}, response_metadata={'finish_reason': 'tool_calls'}, id='run-64ee5aa7-c147-4790-b23f-42f64a75924c', tool_calls=[{'name': 'sql_db_list_tables', 'args': {}, 'id': 'call_szZfy6Kv4u4f94zl4saRqFdV', 'type': 'tool_call'}], tool_call_chunks=[{'name': 'sql_db_list_tables', 'args': '{}', 'id': 'call_szZfy6Kv4u4f94zl4saRqFdV', 'index': 0, 'type': 'tool_call_chunk'}])], tool_call_id='call_szZfy6Kv4u4f94zl4saRqFdV'), 'Accounts, Cost_of_Capital, Customers, Installments, Products, Transactions'), (ToolAgentAction(tool='sql_db_schema', tool_input={'table_names': 'Customers, Transactions'}, log=\"\\nInvoking: `sql_db_schema` with `{'table_names': 'Customers, Transactions'}`\\n\\n\\n\", message_log=[AIMessageChunk(content='', additional_kwargs={'tool_calls': [{'index': 0, 'id': 'call_GdkeAD5dOZ919JDY74y3E6hJ', 'function': {'arguments': '{\"table_names\":\"Customers, Transactions\"}', 'name': 'sql_db_schema'}, 'type': 'function'}]}, response_metadata={'finish_reason': 'tool_calls'}, id='run-2b6513a5-0efc-442a-87d2-880420b0695b', tool_calls=[{'name': 'sql_db_schema', 'args': {'table_names': 'Customers, Transactions'}, 'id': 'call_GdkeAD5dOZ919JDY74y3E6hJ', 'type': 'tool_call'}], tool_call_chunks=[{'name': 'sql_db_schema', 'args': '{\"table_names\":\"Customers, Transactions\"}', 'id': 'call_GdkeAD5dOZ919JDY74y3E6hJ', 'index': 0, 'type': 'tool_call_chunk'}])], tool_call_id='call_GdkeAD5dOZ919JDY74y3E6hJ'), '\\nCREATE TABLE \"Customers\" (\\n\\t\"Customer_ID\" INTEGER, \\n\\t\"Name\" TEXT NOT NULL, \\n\\t\"Date_of_Birth\" DATE, \\n\\t\"Gender\" TEXT, \\n\\t\"Address\" TEXT, \\n\\t\"Phone_Number\" TEXT, \\n\\t\"Email\" TEXT, \\n\\t\"Account_Open_Date\" DATE, \\n\\t\"Relationship_Status\" TEXT, \\n\\t\"Risk_Score\" INTEGER, \\n\\tPRIMARY KEY (\"Customer_ID\")\\n)\\n\\n/*\\n3 rows from Customers table:\\nCustomer_ID\\tName\\tDate_of_Birth\\tGender\\tAddress\\tPhone_Number\\tEmail\\tAccount_Open_Date\\tRelationship_Status\\tRisk_Score\\n1\\tTimothy Smith\\t1985-04-16\\tFemale\\tUnit 6781 Box 1250\\nDPO AA 51307\\t001-569-821-4142x7525\\tNone\\t2019-02-19\\tInactive\\t19\\n2\\tKevin Jones\\t1989-10-17\\tFemale\\t3051 Kennedy Keys Suite 448\\nWest Michele, PR 17554\\tNone\\tNone\\t2021-12-04\\tActive\\t5\\n3\\tCheryl Baxter\\t1949-05-04\\tMale\\t748 Joshua Points Suite 862\\nEast Cassandraburgh, IN 57597\\tNone\\tomartinez@example.net\\t2019-11-25\\tClosed\\t34\\n*/\\n\\n\\nCREATE TABLE \"Transactions\" (\\n\\t\"Transaction_ID\" INTEGER, \\n\\t\"Account_ID\" INTEGER, \\n\\t\"Transaction_Date\" DATE, \\n\\t\"Transaction_Type\" TEXT, \\n\\t\"Amount\" REAL, \\n\\t\"Balance_After_Transaction\" REAL, \\n\\t\"Merchant_Details\" TEXT, \\n\\tPRIMARY KEY (\"Transaction_ID\"), \\n\\tFOREIGN KEY(\"Account_ID\") REFERENCES \"Accounts\" (\"Account_ID\")\\n)\\n\\n/*\\n3 rows from Transactions table:\\nTransaction_ID\\tAccount_ID\\tTransaction_Date\\tTransaction_Type\\tAmount\\tBalance_After_Transaction\\tMerchant_Details\\n1\\t13\\t2024-01-28\\tWithdrawal\\t5863.07\\t69995.39\\tNone\\n2\\t54\\t2021-03-09\\tDeposit\\t3134.4\\t70049.46\\tAnderson, Fuentes and Golden\\n3\\t5\\t2024-04-20\\tPayment\\t4241.78\\t56376.13\\tCox, Carrillo and Long\\n*/'), (ToolAgentAction(tool='sql_db_query', tool_input={'query': \"SELECT SUM(t.Amount) AS Total_Outstanding_Value\\nFROM Customers c\\nJOIN Transactions t ON c.Customer_ID = t.Account_ID\\nWHERE c.Relationship_Status = 'Active'\\nAND julianday('now') - julianday(t.Transaction_Date) > 60\"}, log='\\nInvoking: `sql_db_query` with `{\\'query\\': \"SELECT SUM(t.Amount) AS Total_Outstanding_Value\\\\nFROM Customers c\\\\nJOIN Transactions t ON c.Customer_ID = t.Account_ID\\\\nWHERE c.Relationship_Status = \\'Active\\'\\\\nAND julianday(\\'now\\') - julianday(t.Transaction_Date) > 60\"}`\\nresponded: To find the total outstanding monetary value of transactions for customers who have overdue days > 60 and belong to the active group, we need to join the Customers and Transactions tables based on the Account_ID and Customer_ID columns. We can then filter the results based on the conditions mentioned.\\n\\nHere is the SQL query to achieve this:\\n\\n```sql\\nSELECT SUM(t.Amount) AS Total_Outstanding_Value\\nFROM Customers c\\nJOIN Transactions t ON c.Customer_ID = t.Account_ID\\nWHERE c.Relationship_Status = \\'Active\\'\\nAND julianday(\\'now\\') - julianday(t.Transaction_Date) > 60\\n```\\n\\nI will now execute this query to find the total outstanding monetary value of transactions for customers who have overdue days > 60 and belong to the active group.\\n\\n', message_log=[AIMessageChunk(content=\"To find the total outstanding monetary value of transactions for customers who have overdue days > 60 and belong to the active group, we need to join the Customers and Transactions tables based on the Account_ID and Customer_ID columns. We can then filter the results based on the conditions mentioned.\\n\\nHere is the SQL query to achieve this:\\n\\n```sql\\nSELECT SUM(t.Amount) AS Total_Outstanding_Value\\nFROM Customers c\\nJOIN Transactions t ON c.Customer_ID = t.Account_ID\\nWHERE c.Relationship_Status = 'Active'\\nAND julianday('now') - julianday(t.Transaction_Date) > 60\\n```\\n\\nI will now execute this query to find the total outstanding monetary value of transactions for customers who have overdue days > 60 and belong to the active group.\", additional_kwargs={'tool_calls': [{'index': 0, 'id': 'call_ZMGoFKstpxDEjL7y0BT3Vnn0', 'function': {'arguments': '{\"query\":\"SELECT SUM(t.Amount) AS Total_Outstanding_Value\\\\nFROM Customers c\\\\nJOIN Transactions t ON c.Customer_ID = t.Account_ID\\\\nWHERE c.Relationship_Status = \\'Active\\'\\\\nAND julianday(\\'now\\') - julianday(t.Transaction_Date) > 60\"}', 'name': 'sql_db_query'}, 'type': 'function'}]}, response_metadata={'finish_reason': 'tool_calls'}, id='run-882c5688-5d24-49af-8f2e-1b30dec92e67', tool_calls=[{'name': 'sql_db_query', 'args': {'query': \"SELECT SUM(t.Amount) AS Total_Outstanding_Value\\nFROM Customers c\\nJOIN Transactions t ON c.Customer_ID = t.Account_ID\\nWHERE c.Relationship_Status = 'Active'\\nAND julianday('now') - julianday(t.Transaction_Date) > 60\"}, 'id': 'call_ZMGoFKstpxDEjL7y0BT3Vnn0', 'type': 'tool_call'}], tool_call_chunks=[{'name': 'sql_db_query', 'args': '{\"query\":\"SELECT SUM(t.Amount) AS Total_Outstanding_Value\\\\nFROM Customers c\\\\nJOIN Transactions t ON c.Customer_ID = t.Account_ID\\\\nWHERE c.Relationship_Status = \\'Active\\'\\\\nAND julianday(\\'now\\') - julianday(t.Transaction_Date) > 60\"}', 'id': 'call_ZMGoFKstpxDEjL7y0BT3Vnn0', 'index': 0, 'type': 'tool_call_chunk'}])], tool_call_id='call_ZMGoFKstpxDEjL7y0BT3Vnn0'), '[(1567985.08,)]')]}\n"
     ]
    }
   ],
   "source": [
    "complex_query_1 = sql_agent.invoke(\"What is the total outstanding monetary value of transactions for customers who have overdue days > 60 and belong to active group?\")\n",
    "print(complex_query_1)"
   ]
  },
  {
   "cell_type": "markdown",
   "id": "d4aa11c7",
   "metadata": {},
   "source": [
    "💰 **Output:** The SQL Agent executes a query to calculate the total monetary value of overdue transactions for active customers. The result provides insights into the financial impact of overdue payments."
   ]
  },
  {
   "cell_type": "code",
   "execution_count": 37,
   "id": "0b2be2e9",
   "metadata": {},
   "outputs": [
    {
     "name": "stdout",
     "output_type": "stream",
     "text": [
      "tool='sql_db_list_tables' tool_input={} log='\\nInvoking: `sql_db_list_tables` with `{}`\\n\\n\\n' message_log=[AIMessageChunk(content='', additional_kwargs={'tool_calls': [{'index': 0, 'id': 'call_szZfy6Kv4u4f94zl4saRqFdV', 'function': {'arguments': '{}', 'name': 'sql_db_list_tables'}, 'type': 'function'}]}, response_metadata={'finish_reason': 'tool_calls'}, id='run-64ee5aa7-c147-4790-b23f-42f64a75924c', tool_calls=[{'name': 'sql_db_list_tables', 'args': {}, 'id': 'call_szZfy6Kv4u4f94zl4saRqFdV', 'type': 'tool_call'}], tool_call_chunks=[{'name': 'sql_db_list_tables', 'args': '{}', 'id': 'call_szZfy6Kv4u4f94zl4saRqFdV', 'index': 0, 'type': 'tool_call_chunk'}])] tool_call_id='call_szZfy6Kv4u4f94zl4saRqFdV'\n"
     ]
    }
   ],
   "source": [
    "pprint(complex_query_1['intermediate_steps'][0][0])"
   ]
  },
  {
   "cell_type": "markdown",
   "id": "a36a496d",
   "metadata": {},
   "source": [
    "🛠️ **Output:** This intermediate result highlights a specific step in the query execution process, such as the SQL query generated by the agent or a partial result. This helps debug and understand how the SQL Agent processes queries."
   ]
  },
  {
   "cell_type": "markdown",
   "id": "3bf1583f",
   "metadata": {},
   "source": [
    "🛠️ **Output:** Pretty-prints intermediate steps of query execution, such as parsing and processing details. This helps in debugging and understanding how the SQL Agent formulates and executes queries."
   ]
  },
  {
   "cell_type": "code",
   "execution_count": 40,
   "id": "cf35751a",
   "metadata": {},
   "outputs": [
    {
     "name": "stdout",
     "output_type": "stream",
     "text": [
      "ToolAgentAction(tool='sql_db_schema', tool_input={'table_names': 'Customers, Transactions'}, log=\"\\nInvoking: `sql_db_schema` with `{'table_names': 'Customers, Transactions'}`\\n\\n\\n\", message_log=[AIMessageChunk(content='', additional_kwargs={'tool_calls': [{'index': 0, 'id': 'call_GdkeAD5dOZ919JDY74y3E6hJ', 'function': {'arguments': '{\"table_names\":\"Customers, Transactions\"}', 'name': 'sql_db_schema'}, 'type': 'function'}]}, response_metadata={'finish_reason': 'tool_calls'}, id='run-2b6513a5-0efc-442a-87d2-880420b0695b', tool_calls=[{'name': 'sql_db_schema', 'args': {'table_names': 'Customers, Transactions'}, 'id': 'call_GdkeAD5dOZ919JDY74y3E6hJ', 'type': 'tool_call'}], tool_call_chunks=[{'name': 'sql_db_schema', 'args': '{\"table_names\":\"Customers, Transactions\"}', 'id': 'call_GdkeAD5dOZ919JDY74y3E6hJ', 'index': 0, 'type': 'tool_call_chunk'}])], tool_call_id='call_GdkeAD5dOZ919JDY74y3E6hJ')\n"
     ]
    }
   ],
   "source": [
    "pprint(complex_query_1['intermediate_steps'][1][0])"
   ]
  },
  {
   "cell_type": "markdown",
   "id": "4317024e",
   "metadata": {},
   "source": [
    "📋 **Output:** Displays the exact SQL query generated by the SQL Agent for execution. Reviewing this ensures the query aligns with the user's intent."
   ]
  },
  {
   "cell_type": "markdown",
   "id": "bf77a232",
   "metadata": {},
   "source": [
    "🛠️ **Output:** Pretty-prints intermediate steps of query execution, such as parsing and processing details. This helps in debugging and understanding how the SQL Agent formulates and executes queries."
   ]
  },
  {
   "cell_type": "code",
   "execution_count": 44,
   "id": "1b411664",
   "metadata": {},
   "outputs": [
    {
     "name": "stdout",
     "output_type": "stream",
     "text": [
      "\n",
      "CREATE TABLE \"Customers\" (\n",
      "\t\"Customer_ID\" INTEGER, \n",
      "\t\"Name\" TEXT NOT NULL, \n",
      "\t\"Date_of_Birth\" DATE, \n",
      "\t\"Gender\" TEXT, \n",
      "\t\"Address\" TEXT, \n",
      "\t\"Phone_Number\" TEXT, \n",
      "\t\"Email\" TEXT, \n",
      "\t\"Account_Open_Date\" DATE, \n",
      "\t\"Relationship_Status\" TEXT, \n",
      "\t\"Risk_Score\" INTEGER, \n",
      "\tPRIMARY KEY (\"Customer_ID\")\n",
      ")\n",
      "\n",
      "/*\n",
      "3 rows from Customers table:\n",
      "Customer_ID\tName\tDate_of_Birth\tGender\tAddress\tPhone_Number\tEmail\tAccount_Open_Date\tRelationship_Status\tRisk_Score\n",
      "1\tTimothy Smith\t1985-04-16\tFemale\tUnit 6781 Box 1250\n",
      "DPO AA 51307\t001-569-821-4142x7525\tNone\t2019-02-19\tInactive\t19\n",
      "2\tKevin Jones\t1989-10-17\tFemale\t3051 Kennedy Keys Suite 448\n",
      "West Michele, PR 17554\tNone\tNone\t2021-12-04\tActive\t5\n",
      "3\tCheryl Baxter\t1949-05-04\tMale\t748 Joshua Points Suite 862\n",
      "East Cassandraburgh, IN 57597\tNone\tomartinez@example.net\t2019-11-25\tClosed\t34\n",
      "*/\n",
      "\n",
      "\n",
      "CREATE TABLE \"Transactions\" (\n",
      "\t\"Transaction_ID\" INTEGER, \n",
      "\t\"Account_ID\" INTEGER, \n",
      "\t\"Transaction_Date\" DATE, \n",
      "\t\"Transaction_Type\" TEXT, \n",
      "\t\"Amount\" REAL, \n",
      "\t\"Balance_After_Transaction\" REAL, \n",
      "\t\"Merchant_Details\" TEXT, \n",
      "\tPRIMARY KEY (\"Transaction_ID\"), \n",
      "\tFOREIGN KEY(\"Account_ID\") REFERENCES \"Accounts\" (\"Account_ID\")\n",
      ")\n",
      "\n",
      "/*\n",
      "3 rows from Transactions table:\n",
      "Transaction_ID\tAccount_ID\tTransaction_Date\tTransaction_Type\tAmount\tBalance_After_Transaction\tMerchant_Details\n",
      "1\t13\t2024-01-28\tWithdrawal\t5863.07\t69995.39\tNone\n",
      "2\t54\t2021-03-09\tDeposit\t3134.4\t70049.46\tAnderson, Fuentes and Golden\n",
      "3\t5\t2024-04-20\tPayment\t4241.78\t56376.13\tCox, Carrillo and Long\n",
      "*/\n"
     ]
    }
   ],
   "source": [
    "print(complex_query_1['intermediate_steps'][1][1])"
   ]
  },
  {
   "cell_type": "markdown",
   "id": "c37e2729",
   "metadata": {},
   "source": [
    "📊 **Output:** A sample of rows from the Customers table is displayed to provide a snapshot of the data. This helps verify the data's integrity and structure before executing queries."
   ]
  },
  {
   "cell_type": "code",
   "execution_count": 50,
   "id": "b4c9312e",
   "metadata": {},
   "outputs": [
    {
     "name": "stdout",
     "output_type": "stream",
     "text": [
      "SELECT SUM(t.Amount) AS Total_Outstanding_Value\n",
      "FROM Customers c\n",
      "JOIN Transactions t ON c.Customer_ID = t.Account_ID\n",
      "WHERE c.Relationship_Status = 'Active'\n",
      "AND julianday('now') - julianday(t.Transaction_Date) > 60\n"
     ]
    }
   ],
   "source": [
    "print(complex_query_1['intermediate_steps'][2][0].tool_input['query'])"
   ]
  },
  {
   "cell_type": "markdown",
   "id": "e1cad8fc",
   "metadata": {},
   "source": [
    "📈 **Output:** The result shows how average interest rates have varied over time across different product types, providing valuable insights for trend analysis."
   ]
  },
  {
   "cell_type": "code",
   "execution_count": 23,
   "id": "19d1360d",
   "metadata": {},
   "outputs": [
    {
     "name": "stdout",
     "output_type": "stream",
     "text": [
      "Sample from Customers Table:\n"
     ]
    },
    {
     "data": {
      "text/html": [
       "<div>\n",
       "<style scoped>\n",
       "    .dataframe tbody tr th:only-of-type {\n",
       "        vertical-align: middle;\n",
       "    }\n",
       "\n",
       "    .dataframe tbody tr th {\n",
       "        vertical-align: top;\n",
       "    }\n",
       "\n",
       "    .dataframe thead th {\n",
       "        text-align: right;\n",
       "    }\n",
       "</style>\n",
       "<table border=\"1\" class=\"dataframe\">\n",
       "  <thead>\n",
       "    <tr style=\"text-align: right;\">\n",
       "      <th></th>\n",
       "      <th>Total_Outstanding_Value</th>\n",
       "    </tr>\n",
       "  </thead>\n",
       "  <tbody>\n",
       "    <tr>\n",
       "      <th>0</th>\n",
       "      <td>1567985.08</td>\n",
       "    </tr>\n",
       "  </tbody>\n",
       "</table>\n",
       "</div>"
      ],
      "text/plain": [
       "   Total_Outstanding_Value\n",
       "0               1567985.08"
      ]
     },
     "metadata": {},
     "output_type": "display_data"
    }
   ],
   "source": [
    "# Connect to SQLite database\n",
    "conn = sqlite3.connect(\"mock_bank_data.sqlite\")\n",
    "\n",
    "\n",
    "customers_query = \"\"\"\n",
    "SELECT SUM(t.Amount) AS Total_Outstanding_Value\\nFROM Customers c\\nJOIN Transactions t ON c.Customer_ID = t.Account_ID\\nWHERE c.Relationship_Status = 'Active'\\nAND julianday('now') - julianday(t.Transaction_Date) > 60\n",
    "\"\"\"\n",
    "customers_sample = pd.read_sql_query(customers_query, conn)\n",
    "\n",
    "# Display sample data\n",
    "print(\"Sample from Customers Table:\")\n",
    "display(customers_sample)\n",
    "conn.close()\n"
   ]
  },
  {
   "cell_type": "markdown",
   "id": "e5bd9a1a",
   "metadata": {},
   "source": [
    "🏦 **Output:** This identifies the top 5 customers based on loan amounts and calculates their average interest rates. This analysis can be used to prioritize high-value clients."
   ]
  },
  {
   "cell_type": "code",
   "execution_count": 19,
   "id": "6f7f955b",
   "metadata": {},
   "outputs": [
    {
     "name": "stdout",
     "output_type": "stream",
     "text": [
      "I don't have the exact data to provide the total outstanding monetary value of transactions for customers who have overdue days > 60 and belong to the active group. The query did not return any results.\n"
     ]
    }
   ],
   "source": [
    "print(complex_query_1)"
   ]
  },
  {
   "cell_type": "markdown",
   "id": "ca7d93ce",
   "metadata": {},
   "source": [
    "🔗 **Output:** Displays the correlation between income levels and default rates. This helps understand risk factors associated with different customer segments."
   ]
  },
  {
   "cell_type": "code",
   "execution_count": 13,
   "id": "bb87ab2a",
   "metadata": {},
   "outputs": [
    {
     "name": "stdout",
     "output_type": "stream",
     "text": [
      "\n",
      "\n",
      "\u001b[1m> Entering new SQL Agent Executor chain...\u001b[0m\n",
      "\u001b[32;1m\u001b[1;3m\n",
      "Invoking: `sql_db_list_tables` with `{}`\n",
      "\n",
      "\n",
      "\u001b[0m\u001b[38;5;200m\u001b[1;3mAccounts, Cost_of_Capital, Customers, Installments, Products, Transactions\u001b[0m\u001b[32;1m\u001b[1;3m\n",
      "Invoking: `sql_db_schema` with `{'table_names': 'Products'}`\n",
      "\n",
      "\n",
      "\u001b[0m\u001b[33;1m\u001b[1;3m\n",
      "CREATE TABLE \"Products\" (\n",
      "\t\"Product_ID\" INTEGER, \n",
      "\t\"Product_Name\" TEXT, \n",
      "\t\"Product_Type\" TEXT, \n",
      "\t\"Interest_Rate\" REAL, \n",
      "\t\"Fees\" REAL, \n",
      "\t\"Launch_Date\" DATE, \n",
      "\t\"End_Date\" DATE, \n",
      "\tPRIMARY KEY (\"Product_ID\")\n",
      ")\n",
      "\n",
      "/*\n",
      "3 rows from Products table:\n",
      "Product_ID\tProduct_Name\tProduct_Type\tInterest_Rate\tFees\tLaunch_Date\tEnd_Date\n",
      "1\tThey Product\tCredit Card\t14.53\t222.85\t2022-09-02\t2028-09-19\n",
      "2\tBaby Product\tLoan\t7.62\t144.82\t2023-03-13\t2027-02-14\n",
      "3\tGas Product\tLoan\t5.53\t100.42\t2017-06-09\tNone\n",
      "*/\u001b[0m\u001b[32;1m\u001b[1;3m\n",
      "Invoking: `sql_db_query` with `{'query': 'SELECT Product_Type, Launch_Date, AVG(Interest_Rate) AS Average_Interest_Rate FROM Products GROUP BY Product_Type, Launch_Date ORDER BY Product_Type, Launch_Date'}`\n",
      "responded: I can analyze how the average interest rate has changed over time for different product types by querying the \"Products\" table. I will select the \"Product_Type\" and \"Launch_Date\" columns to group the data by product type and launch date, and calculate the average interest rate for each group. Let me retrieve this information.\n",
      "\n",
      "\u001b[0m\u001b[36;1m\u001b[1;3m[('Credit Card', '2017-03-25', 12.62), ('Credit Card', '2017-10-14', 1.14), ('Credit Card', '2018-03-05', 14.47), ('Credit Card', '2018-07-16', 13.21), ('Credit Card', '2020-09-20', 9.26), ('Credit Card', '2022-09-02', 14.53), ('Credit Card', '2023-09-22', 5.21), ('Credit Card', '2023-10-09', 10.09), ('Credit Card', '2024-02-04', 8.52), ('Loan', '2017-06-09', 5.53), ('Loan', '2019-04-19', 4.3), ('Loan', '2019-12-26', 12.03), ('Loan', '2020-07-27', 2.22), ('Loan', '2023-03-13', 7.62), ('Savings Plan', '2017-08-05', 6.77), ('Savings Plan', '2019-10-28', 8.38), ('Savings Plan', '2020-01-20', 7.61), ('Savings Plan', '2022-06-27', 8.8), ('Savings Plan', '2022-12-31', 12.2), ('Savings Plan', '2024-04-14', 8.34)]\u001b[0m\u001b[32;1m\u001b[1;3mThe average interest rate has changed over time for different product types as follows:\n",
      "\n",
      "- For \"Credit Card\" products:\n",
      "  - On 2017-03-25, the average interest rate was 12.62%\n",
      "  - On 2017-10-14, the average interest rate was 1.14%\n",
      "  - On 2018-03-05, the average interest rate was 14.47%\n",
      "  - On 2018-07-16, the average interest rate was 13.21%\n",
      "  - On 2020-09-20, the average interest rate was 9.26%\n",
      "  - On 2022-09-02, the average interest rate was 14.53%\n",
      "  - On 2023-09-22, the average interest rate was 5.21%\n",
      "  - On 2023-10-09, the average interest rate was 10.09%\n",
      "  - On 2024-02-04, the average interest rate was 8.52%\n",
      "\n",
      "- For \"Loan\" products:\n",
      "  - On 2017-06-09, the average interest rate was 5.53%\n",
      "  - On 2019-04-19, the average interest rate was 4.3%\n",
      "  - On 2019-12-26, the average interest rate was 12.03%\n",
      "  - On 2020-07-27, the average interest rate was 2.22%\n",
      "  - On 2023-03-13, the average interest rate was 7.62%\n",
      "\n",
      "- For \"Savings Plan\" products:\n",
      "  - On 2017-08-05, the average interest rate was 6.77%\n",
      "  - On 2019-10-28, the average interest rate was 8.38%\n",
      "  - On 2020-01-20, the average interest rate was 7.61%\n",
      "  - On 2022-06-27, the average interest rate was 8.8%\n",
      "  - On 2022-12-31, the average interest rate was 12.2%\n",
      "  - On 2024-04-14, the average interest rate was 8.34%\u001b[0m\n",
      "\n",
      "\u001b[1m> Finished chain.\u001b[0m\n",
      "The average interest rate has changed over time for different product types as follows:\n",
      "\n",
      "- For \"Credit Card\" products:\n",
      "  - On 2017-03-25, the average interest rate was 12.62%\n",
      "  - On 2017-10-14, the average interest rate was 1.14%\n",
      "  - On 2018-03-05, the average interest rate was 14.47%\n",
      "  - On 2018-07-16, the average interest rate was 13.21%\n",
      "  - On 2020-09-20, the average interest rate was 9.26%\n",
      "  - On 2022-09-02, the average interest rate was 14.53%\n",
      "  - On 2023-09-22, the average interest rate was 5.21%\n",
      "  - On 2023-10-09, the average interest rate was 10.09%\n",
      "  - On 2024-02-04, the average interest rate was 8.52%\n",
      "\n",
      "- For \"Loan\" products:\n",
      "  - On 2017-06-09, the average interest rate was 5.53%\n",
      "  - On 2019-04-19, the average interest rate was 4.3%\n",
      "  - On 2019-12-26, the average interest rate was 12.03%\n",
      "  - On 2020-07-27, the average interest rate was 2.22%\n",
      "  - On 2023-03-13, the average interest rate was 7.62%\n",
      "\n",
      "- For \"Savings Plan\" products:\n",
      "  - On 2017-08-05, the average interest rate was 6.77%\n",
      "  - On 2019-10-28, the average interest rate was 8.38%\n",
      "  - On 2020-01-20, the average interest rate was 7.61%\n",
      "  - On 2022-06-27, the average interest rate was 8.8%\n",
      "  - On 2022-12-31, the average interest rate was 12.2%\n",
      "  - On 2024-04-14, the average interest rate was 8.34%\n"
     ]
    }
   ],
   "source": [
    "complex_query_2 = sql_agent.run(\"How has the average interest rate changed over time for different product types?\")\n",
    "print(complex_query_2)"
   ]
  },
  {
   "cell_type": "markdown",
   "id": "47731a3d",
   "metadata": {},
   "source": [
    "👥 **Output:** The result identifies demographic factors influencing loan product preferences, providing actionable insights for targeted marketing or product design."
   ]
  },
  {
   "cell_type": "code",
   "execution_count": 14,
   "id": "076a2644",
   "metadata": {},
   "outputs": [
    {
     "name": "stdout",
     "output_type": "stream",
     "text": [
      "\n",
      "\n",
      "\u001b[1m> Entering new SQL Agent Executor chain...\u001b[0m\n",
      "\u001b[32;1m\u001b[1;3m\n",
      "Invoking: `sql_db_list_tables` with `{}`\n",
      "\n",
      "\n",
      "\u001b[0m\u001b[38;5;200m\u001b[1;3mAccounts, Cost_of_Capital, Customers, Installments, Products, Transactions\u001b[0m\u001b[32;1m\u001b[1;3m\n",
      "Invoking: `sql_db_schema` with `{'table_names': 'Customers, Transactions'}`\n",
      "\n",
      "\n",
      "\u001b[0m\u001b[33;1m\u001b[1;3m\n",
      "CREATE TABLE \"Customers\" (\n",
      "\t\"Customer_ID\" INTEGER, \n",
      "\t\"Name\" TEXT NOT NULL, \n",
      "\t\"Date_of_Birth\" DATE, \n",
      "\t\"Gender\" TEXT, \n",
      "\t\"Address\" TEXT, \n",
      "\t\"Phone_Number\" TEXT, \n",
      "\t\"Email\" TEXT, \n",
      "\t\"Account_Open_Date\" DATE, \n",
      "\t\"Relationship_Status\" TEXT, \n",
      "\t\"Risk_Score\" INTEGER, \n",
      "\tPRIMARY KEY (\"Customer_ID\")\n",
      ")\n",
      "\n",
      "/*\n",
      "3 rows from Customers table:\n",
      "Customer_ID\tName\tDate_of_Birth\tGender\tAddress\tPhone_Number\tEmail\tAccount_Open_Date\tRelationship_Status\tRisk_Score\n",
      "1\tJoshua Bray\t1968-02-20\tMale\t3067 Garcia Streets Suite 622\n",
      "West Jasonville, FM 98612\t369-828-0465x53797\tNone\t2015-03-22\tInactive\t77\n",
      "2\tBenjamin Garcia\t1959-11-07\tFemale\t0073 Jordan Common Suite 890\n",
      "North Taylor, PA 74708\tNone\twarnerjennifer@example.net\t2018-07-31\tActive\t46\n",
      "3\tWendy Rose\t1981-04-08\tMale\t77063 Howard Plains Suite 040\n",
      "Evansland, ND 93707\t001-738-558-7403x783\tgmontes@example.com\t2016-02-26\tInactive\t20\n",
      "*/\n",
      "\n",
      "\n",
      "CREATE TABLE \"Transactions\" (\n",
      "\t\"Transaction_ID\" INTEGER, \n",
      "\t\"Account_ID\" INTEGER, \n",
      "\t\"Transaction_Date\" DATE, \n",
      "\t\"Transaction_Type\" TEXT, \n",
      "\t\"Amount\" REAL, \n",
      "\t\"Balance_After_Transaction\" REAL, \n",
      "\t\"Merchant_Details\" TEXT, \n",
      "\tPRIMARY KEY (\"Transaction_ID\"), \n",
      "\tFOREIGN KEY(\"Account_ID\") REFERENCES \"Accounts\" (\"Account_ID\")\n",
      ")\n",
      "\n",
      "/*\n",
      "3 rows from Transactions table:\n",
      "Transaction_ID\tAccount_ID\tTransaction_Date\tTransaction_Type\tAmount\tBalance_After_Transaction\tMerchant_Details\n",
      "1\t57\t2020-06-23\tWithdrawal\t7812.6\t66243.04\tNone\n",
      "2\t11\t2021-01-04\tPayment\t13.63\t58010.88\tClark-Leonard\n",
      "3\t82\t2023-04-14\tPayment\t2328.71\t51215.14\tDelgado-Clark\n",
      "*/\u001b[0m\u001b[32;1m\u001b[1;3m\n",
      "Invoking: `sql_db_query` with `{'query': \"SELECT c.Customer_ID, c.Name, SUM(t.Amount) AS Total_Loan_Amount, AVG(c.Risk_Score) AS Average_Interest_Rate FROM Customers c JOIN Transactions t ON c.Customer_ID = t.Account_ID WHERE t.Transaction_Type = 'Withdrawal' GROUP BY c.Customer_ID, c.Name ORDER BY Total_Loan_Amount DESC LIMIT 5\"}`\n",
      "\n",
      "\n",
      "\u001b[0m\u001b[36;1m\u001b[1;3m[(6, 'Stephanie Harmon', 62063.509999999995, 51.0), (11, 'Brandon Delacruz', 54941.71, 27.0), (37, 'Joy Alexander', 54227.729999999996, 3.0), (60, 'Justin Harris', 50256.69, 100.0), (69, 'Mario Mcfarland', 46881.54, 22.0)]\u001b[0m\u001b[32;1m\u001b[1;3mThe top 5 customers with the highest loan amounts are as follows:\n",
      "\n",
      "1. Customer: Stephanie Harmon, Total Loan Amount: $62,063.51, Average Interest Rate: 51.0\n",
      "2. Customer: Brandon Delacruz, Total Loan Amount: $54,941.71, Average Interest Rate: 27.0\n",
      "3. Customer: Joy Alexander, Total Loan Amount: $54,227.73, Average Interest Rate: 3.0\n",
      "4. Customer: Justin Harris, Total Loan Amount: $50,256.69, Average Interest Rate: 100.0\n",
      "5. Customer: Mario Mcfarland, Total Loan Amount: $46,881.54, Average Interest Rate: 22.0\u001b[0m\n",
      "\n",
      "\u001b[1m> Finished chain.\u001b[0m\n",
      "The top 5 customers with the highest loan amounts are as follows:\n",
      "\n",
      "1. Customer: Stephanie Harmon, Total Loan Amount: $62,063.51, Average Interest Rate: 51.0\n",
      "2. Customer: Brandon Delacruz, Total Loan Amount: $54,941.71, Average Interest Rate: 27.0\n",
      "3. Customer: Joy Alexander, Total Loan Amount: $54,227.73, Average Interest Rate: 3.0\n",
      "4. Customer: Justin Harris, Total Loan Amount: $50,256.69, Average Interest Rate: 100.0\n",
      "5. Customer: Mario Mcfarland, Total Loan Amount: $46,881.54, Average Interest Rate: 22.0\n"
     ]
    }
   ],
   "source": [
    "complex_query_3 = sql_agent.run(\"Can you identify the top 5 customers with the highest loan amounts and provide their average interest rates?\")\n",
    "print(complex_query_3)"
   ]
  },
  {
   "cell_type": "markdown",
   "id": "d52ec19e",
   "metadata": {},
   "source": [
    "💹 **Output:** This reveals the products with the highest interest rates for each year. Such insights can guide pricing strategies and financial planning."
   ]
  },
  {
   "cell_type": "code",
   "execution_count": 15,
   "id": "673c27be",
   "metadata": {},
   "outputs": [
    {
     "name": "stdout",
     "output_type": "stream",
     "text": [
      "\n",
      "\n",
      "\u001b[1m> Entering new SQL Agent Executor chain...\u001b[0m\n",
      "\u001b[32;1m\u001b[1;3m\n",
      "Invoking: `sql_db_list_tables` with `{}`\n",
      "\n",
      "\n",
      "\u001b[0m\u001b[38;5;200m\u001b[1;3mAccounts, Cost_of_Capital, Customers, Installments, Products, Transactions\u001b[0m\u001b[32;1m\u001b[1;3m\n",
      "Invoking: `sql_db_schema` with `{'table_names': 'Accounts, Customers, Transactions'}`\n",
      "\n",
      "\n",
      "\u001b[0m\u001b[33;1m\u001b[1;3m\n",
      "CREATE TABLE \"Accounts\" (\n",
      "\t\"Account_ID\" INTEGER, \n",
      "\t\"Customer_ID\" INTEGER, \n",
      "\t\"Account_Type\" TEXT, \n",
      "\t\"Account_Status\" TEXT, \n",
      "\t\"Account_Open_Date\" DATE, \n",
      "\t\"Balance\" REAL, \n",
      "\t\"Interest_Rate\" REAL, \n",
      "\tPRIMARY KEY (\"Account_ID\"), \n",
      "\tFOREIGN KEY(\"Customer_ID\") REFERENCES \"Customers\" (\"Customer_ID\")\n",
      ")\n",
      "\n",
      "/*\n",
      "3 rows from Accounts table:\n",
      "Account_ID\tCustomer_ID\tAccount_Type\tAccount_Status\tAccount_Open_Date\tBalance\tInterest_Rate\n",
      "1\t1\tChecking\tClosed\t2015-04-12\t24053.91\t1.67\n",
      "2\t2\tChecking\tOpen\t2022-12-18\t70048.68\t2.56\n",
      "3\t2\tSavings\tClosed\t2018-06-07\t76929.36\t0.87\n",
      "*/\n",
      "\n",
      "\n",
      "CREATE TABLE \"Customers\" (\n",
      "\t\"Customer_ID\" INTEGER, \n",
      "\t\"Name\" TEXT NOT NULL, \n",
      "\t\"Date_of_Birth\" DATE, \n",
      "\t\"Gender\" TEXT, \n",
      "\t\"Address\" TEXT, \n",
      "\t\"Phone_Number\" TEXT, \n",
      "\t\"Email\" TEXT, \n",
      "\t\"Account_Open_Date\" DATE, \n",
      "\t\"Relationship_Status\" TEXT, \n",
      "\t\"Risk_Score\" INTEGER, \n",
      "\tPRIMARY KEY (\"Customer_ID\")\n",
      ")\n",
      "\n",
      "/*\n",
      "3 rows from Customers table:\n",
      "Customer_ID\tName\tDate_of_Birth\tGender\tAddress\tPhone_Number\tEmail\tAccount_Open_Date\tRelationship_Status\tRisk_Score\n",
      "1\tJoshua Bray\t1968-02-20\tMale\t3067 Garcia Streets Suite 622\n",
      "West Jasonville, FM 98612\t369-828-0465x53797\tNone\t2015-03-22\tInactive\t77\n",
      "2\tBenjamin Garcia\t1959-11-07\tFemale\t0073 Jordan Common Suite 890\n",
      "North Taylor, PA 74708\tNone\twarnerjennifer@example.net\t2018-07-31\tActive\t46\n",
      "3\tWendy Rose\t1981-04-08\tMale\t77063 Howard Plains Suite 040\n",
      "Evansland, ND 93707\t001-738-558-7403x783\tgmontes@example.com\t2016-02-26\tInactive\t20\n",
      "*/\n",
      "\n",
      "\n",
      "CREATE TABLE \"Transactions\" (\n",
      "\t\"Transaction_ID\" INTEGER, \n",
      "\t\"Account_ID\" INTEGER, \n",
      "\t\"Transaction_Date\" DATE, \n",
      "\t\"Transaction_Type\" TEXT, \n",
      "\t\"Amount\" REAL, \n",
      "\t\"Balance_After_Transaction\" REAL, \n",
      "\t\"Merchant_Details\" TEXT, \n",
      "\tPRIMARY KEY (\"Transaction_ID\"), \n",
      "\tFOREIGN KEY(\"Account_ID\") REFERENCES \"Accounts\" (\"Account_ID\")\n",
      ")\n",
      "\n",
      "/*\n",
      "3 rows from Transactions table:\n",
      "Transaction_ID\tAccount_ID\tTransaction_Date\tTransaction_Type\tAmount\tBalance_After_Transaction\tMerchant_Details\n",
      "1\t57\t2020-06-23\tWithdrawal\t7812.6\t66243.04\tNone\n",
      "2\t11\t2021-01-04\tPayment\t13.63\t58010.88\tClark-Leonard\n",
      "3\t82\t2023-04-14\tPayment\t2328.71\t51215.14\tDelgado-Clark\n",
      "*/\u001b[0m\u001b[32;1m\u001b[1;3m\n",
      "Invoking: `sql_db_query` with `{'query': 'SELECT c.Risk_Score, a.Balance FROM Customers c JOIN Accounts a ON c.Customer_ID = a.Customer_ID'}`\n",
      "\n",
      "\n",
      "\u001b[0m\u001b[36;1m\u001b[1;3m[(77, 24053.91), (46, 70048.68), (46, 76929.36), (20, 23100.65), (20, 59939.28), (20, 90207.44), (25, 74533.32), (25, 43457.6), (25, 15271.19), (14, 26205.61), (14, 56829.58), (14, 74105.8), (51, 4635.59), (51, 63991.46), (51, 66589.8), (61, 58636.54), (61, 65255.61), (67, 78707.92), (67, 42631.43), (67, 64608.67), (84, 47296.25), (36, 23691.54), (36, 84408.42), (27, 70981.51), (27, 10763.37), (27, 14446.13), (41, 42292.16), (41, 93425.28), (41, 54379.96), (41, 74196.05), (83, 1347.57), (15, 54078.78), (15, 96863.87), (41, 42367.67), (71, 21491.35), (18, 65042.06), (18, 19907.21), (37, 1344.38), (37, 55210.87), (82, 23590.22), (82, 38942.51), (43, 176.44), (43, 34611.04), (43, 53626.03), (38, 26441.18), (38, 48815.16), (38, 39946.15), (51, 49359.72), (6, 42862.94), (21, 29255.85), (21, 60390.64), (21, 94619.18), (85, 64918.62), (85, 39832.57), (17, 49151.28), (17, 41596.17), (70, 38624.58), (70, 6287.27), (70, 39018.27), (55, 50825.56), (55, 19190.69), (80, 57960.52), (80, 95697.71), (80, 50519.09), (82, 42432.83), (82, 65938.33), (38, 23744.46), (38, 66442.34), (38, 84944.37), (99, 53254.66), (99, 31216.79), (24, 19947.2), (11, 2562.67), (11, 28453.07), (69, 22203.2), (69, 91919.71), (3, 65032.13), (3, 98530.66), (3, 76172.35), (40, 67001.55), (93, 9332.46), (57, 83958.83), (57, 39296.22), (57, 90194.97), (66, 20523.56), (85, 10749.59), (85, 80754.53), (82, 50000.07), (72, 13527.91), (72, 90085.34), (72, 63053.48), (28, 33640.0), (8, 23771.33), (59, 78225.44), (59, 82107.64), (44, 31645.36), (43, 13956.29), (95, 1160.94), (95, 81168.76), (77, 4720.82), (77, 20682.03), (77, 54873.45), (9, 92802.47), (75, 15546.87), (47, 87567.03), (47, 22013.57), (83, 40484.31), (83, 3789.26), (70, 27426.62), (70, 14540.78), (76, 91673.22), (76, 63292.85), (76, 99491.46), (19, 12935.61), (53, 80746.11), (53, 30680.64), (100, 79361.11), (100, 65215.47), (100, 74734.12), (45, 591.58), (26, 96588.45), (26, 9906.57), (43, 94084.5), (43, 65284.66), (43, 40759.51), (96, 8791.93), (96, 15293.26), (22, 1794.97), (71, 55112.14), (71, 70281.96), (71, 74612.26), (52, 14482.99), (52, 60445.17), (52, 2255.23), (64, 6851.05), (22, 9915.76), (22, 71029.93), (22, 76573.02), (8, 6563.34), (8, 61243.51), (8, 5238.4), (56, 39588.89), (56, 98687.87), (59, 67647.95), (59, 36107.61), (14, 14797.95), (47, 16913.93), (47, 9476.56), (17, 75598.23), (17, 10334.15), (53, 70490.51), (53, 7348.94), (22, 97145.52), (22, 66940.71), (22, 65168.56), (25, 65720.3), (68, 94030.08), (68, 12324.26), (68, 88074.91), (47, 41228.73), (47, 79045.69), (78, 1585.3), (21, 14728.12), (21, 65568.84), (21, 99882.97), (98, 30851.57), (98, 40580.88), (44, 82890.46), (86, 82896.28), (29, 69955.55), (44, 16296.86), (44, 34365.76), (44, 50870.0), (57, 97675.99), (52, 93404.22), (52, 48881.42), (52, 97167.2), (20, 41151.6), (20, 85707.09), (20, 23305.76), (15, 36161.54), (15, 25693.09), (58, 39890.71), (64, 94565.87), (64, 75423.66), (82, 45909.7), (82, 38744.49), (82, 70747.83), (31, 99185.51), (31, 34065.37), (25, 397.67), (8, 9889.1), (8, 47757.41), (61, 51114.25), (81, 33989.22), (81, 72349.62), (81, 76628.65), (85, 40669.21), (85, 54520.07)]\u001b[0m\u001b[32;1m\u001b[1;3m\n",
      "Invoking: `sql_db_query` with `{'query': 'SELECT AVG(Risk_Score) AS Avg_Risk_Score, AVG(Balance) AS Avg_Balance, CORR(Risk_Score, Balance) AS Correlation FROM (SELECT c.Risk_Score, a.Balance FROM Customers c JOIN Accounts a ON c.Customer_ID = a.Customer_ID)'}`\n",
      "responded: I have retrieved the Risk Score and Balance information for customers from the database. Now, I will calculate the correlation between lower income levels (represented by the Balance) and default rate (represented by the Risk Score). Let me perform the necessary calculations.\n",
      "\n",
      "\u001b[0m\u001b[36;1m\u001b[1;3mError: (sqlite3.OperationalError) no such function: CORR\n",
      "[SQL: SELECT AVG(Risk_Score) AS Avg_Risk_Score, AVG(Balance) AS Avg_Balance, CORR(Risk_Score, Balance) AS Correlation FROM (SELECT c.Risk_Score, a.Balance FROM Customers c JOIN Accounts a ON c.Customer_ID = a.Customer_ID)]\n",
      "(Background on this error at: https://sqlalche.me/e/20/e3q8)\u001b[0m\u001b[32;1m\u001b[1;3m\n",
      "Invoking: `sql_db_query` with `{'query': 'SELECT AVG(Risk_Score) AS Avg_Risk_Score, AVG(Balance) AS Avg_Balance, SUM((Risk_Score - (SELECT AVG(Risk_Score) FROM Customers)) * (Balance - (SELECT AVG(Balance) FROM Accounts))) / (COUNT(*) * STDDEV(Risk_Score) * STDDEV(Balance)) AS Correlation FROM (SELECT c.Risk_Score, a.Balance FROM Customers c JOIN Accounts a ON c.Customer_ID = a.Customer_ID)'}`\n",
      "responded: I encountered an error while trying to calculate the correlation using the CORR function, which is not supported in SQLite. Let me try a different approach to calculate the correlation between lower income levels and default rate.\n",
      "\n",
      "\u001b[0m\u001b[36;1m\u001b[1;3mError: (sqlite3.OperationalError) no such function: STDDEV\n",
      "[SQL: SELECT AVG(Risk_Score) AS Avg_Risk_Score, AVG(Balance) AS Avg_Balance, SUM((Risk_Score - (SELECT AVG(Risk_Score) FROM Customers)) * (Balance - (SELECT AVG(Balance) FROM Accounts))) / (COUNT(*) * STDDEV(Risk_Score) * STDDEV(Balance)) AS Correlation FROM (SELECT c.Risk_Score, a.Balance FROM Customers c JOIN Accounts a ON c.Customer_ID = a.Customer_ID)]\n",
      "(Background on this error at: https://sqlalche.me/e/20/e3q8)\u001b[0m\u001b[32;1m\u001b[1;3m\n",
      "Invoking: `sql_db_query` with `{'query': 'SELECT AVG(Risk_Score) AS Avg_Risk_Score, AVG(Balance) AS Avg_Balance, SUM((Risk_Score - (SELECT AVG(Risk_Score) FROM Customers)) * (Balance - (SELECT AVG(Balance) FROM Accounts))) / (COUNT(*) * (SELECT SUM((Risk_Score - (SELECT AVG(Risk_Score) FROM Customers)) * (Risk_Score - (SELECT AVG(Risk_Score) FROM Customers))) FROM Customers) * (SELECT SUM((Balance - (SELECT AVG(Balance) FROM Accounts)) * (Balance - (SELECT AVG(Balance) FROM Accounts))) FROM Accounts)) AS Correlation FROM (SELECT c.Risk_Score, a.Balance FROM Customers c JOIN Accounts a ON c.Customer_ID = a.Customer_ID)'}`\n",
      "responded: It seems that the STDDEV function is also not supported in SQLite. Let me try a different method to calculate the correlation between lower income levels and default rate.\n",
      "\n",
      "\u001b[0m\u001b[36;1m\u001b[1;3m[(49.87437185929648, 48738.19336683417, -2.285963177833095e-13)]\u001b[0m\u001b[32;1m\u001b[1;3mThe correlation between lower income levels (represented by the Balance) and default rate (represented by the Risk Score) is approximately -2.29e-13. This indicates a very weak or negligible correlation between the two factors in the dataset.\u001b[0m\n",
      "\n",
      "\u001b[1m> Finished chain.\u001b[0m\n",
      "The correlation between lower income levels (represented by the Balance) and default rate (represented by the Risk Score) is approximately -2.29e-13. This indicates a very weak or negligible correlation between the two factors in the dataset.\n"
     ]
    }
   ],
   "source": [
    "complex_query_4 = sql_agent.run(\"What is the correlation between lower income levels and default rate?\")\n",
    "print(complex_query_4)"
   ]
  },
  {
   "cell_type": "code",
   "execution_count": 21,
   "id": "76569a78",
   "metadata": {},
   "outputs": [
    {
     "name": "stdout",
     "output_type": "stream",
     "text": [
      "\n",
      "\n",
      "\u001b[1m> Entering new SQL Agent Executor chain...\u001b[0m\n",
      "\u001b[32;1m\u001b[1;3m\n",
      "Invoking: `sql_db_list_tables` with `{}`\n",
      "\n",
      "\n",
      "\u001b[0m\u001b[38;5;200m\u001b[1;3mAccounts, Cost_of_Capital, Customers, Installments, Products, Transactions\u001b[0m\u001b[32;1m\u001b[1;3m\n",
      "Invoking: `sql_db_schema` with `{'table_names': 'Customers, Transactions'}`\n",
      "\n",
      "\n",
      "\u001b[0m\u001b[33;1m\u001b[1;3m\n",
      "CREATE TABLE \"Customers\" (\n",
      "\t\"Customer_ID\" INTEGER, \n",
      "\t\"Name\" TEXT NOT NULL, \n",
      "\t\"Date_of_Birth\" DATE, \n",
      "\t\"Gender\" TEXT, \n",
      "\t\"Address\" TEXT, \n",
      "\t\"Phone_Number\" TEXT, \n",
      "\t\"Email\" TEXT, \n",
      "\t\"Account_Open_Date\" DATE, \n",
      "\t\"Relationship_Status\" TEXT, \n",
      "\t\"Risk_Score\" INTEGER, \n",
      "\tPRIMARY KEY (\"Customer_ID\")\n",
      ")\n",
      "\n",
      "/*\n",
      "3 rows from Customers table:\n",
      "Customer_ID\tName\tDate_of_Birth\tGender\tAddress\tPhone_Number\tEmail\tAccount_Open_Date\tRelationship_Status\tRisk_Score\n",
      "1\tJoshua Bray\t1968-02-20\tMale\t3067 Garcia Streets Suite 622\n",
      "West Jasonville, FM 98612\t369-828-0465x53797\tNone\t2015-03-22\tInactive\t77\n",
      "2\tBenjamin Garcia\t1959-11-07\tFemale\t0073 Jordan Common Suite 890\n",
      "North Taylor, PA 74708\tNone\twarnerjennifer@example.net\t2018-07-31\tActive\t46\n",
      "3\tWendy Rose\t1981-04-08\tMale\t77063 Howard Plains Suite 040\n",
      "Evansland, ND 93707\t001-738-558-7403x783\tgmontes@example.com\t2016-02-26\tInactive\t20\n",
      "*/\n",
      "\n",
      "\n",
      "CREATE TABLE \"Transactions\" (\n",
      "\t\"Transaction_ID\" INTEGER, \n",
      "\t\"Account_ID\" INTEGER, \n",
      "\t\"Transaction_Date\" DATE, \n",
      "\t\"Transaction_Type\" TEXT, \n",
      "\t\"Amount\" REAL, \n",
      "\t\"Balance_After_Transaction\" REAL, \n",
      "\t\"Merchant_Details\" TEXT, \n",
      "\tPRIMARY KEY (\"Transaction_ID\"), \n",
      "\tFOREIGN KEY(\"Account_ID\") REFERENCES \"Accounts\" (\"Account_ID\")\n",
      ")\n",
      "\n",
      "/*\n",
      "3 rows from Transactions table:\n",
      "Transaction_ID\tAccount_ID\tTransaction_Date\tTransaction_Type\tAmount\tBalance_After_Transaction\tMerchant_Details\n",
      "1\t57\t2020-06-23\tWithdrawal\t7812.6\t66243.04\tNone\n",
      "2\t11\t2021-01-04\tPayment\t13.63\t58010.88\tClark-Leonard\n",
      "3\t82\t2023-04-14\tPayment\t2328.71\t51215.14\tDelgado-Clark\n",
      "*/\u001b[0m\u001b[32;1m\u001b[1;3m\n",
      "Invoking: `sql_db_query` with `{'query': 'SELECT c.Customer_ID, c.Name, c.Date_of_Birth, c.Gender, c.Relationship_Status, p.Product_Name FROM Customers c JOIN Transactions t ON c.Customer_ID = t.Account_ID JOIN Products p ON t.Transaction_Type = p.Product_Type LIMIT 10'}`\n",
      "responded: Based on the schema of the \"Customers\" table, we can analyze the demographic factors that may influence customer preferences for specific loan products. The relevant columns for demographic factors are \"Date_of_Birth\", \"Gender\", and \"Relationship_Status\".\n",
      "\n",
      "To determine the influence of these factors on customer preferences for loan products, we can look at the relationship between these factors and the products customers have taken loans for. We can join the \"Customers\" table with other relevant tables to gather more information.\n",
      "\n",
      "I will now query the relevant data to analyze the influence of demographic factors on customer preferences for specific loan products.\n",
      "\n",
      "\u001b[0m\u001b[36;1m\u001b[1;3m\u001b[0m\u001b[32;1m\u001b[1;3mI don't have enough information in the database to determine the influence of demographic factors on customer preferences for specific loan products.\u001b[0m\n",
      "\n",
      "\u001b[1m> Finished chain.\u001b[0m\n",
      "I don't have enough information in the database to determine the influence of demographic factors on customer preferences for specific loan products.\n"
     ]
    }
   ],
   "source": [
    "complex_query_5 = sql_agent.run(\"What demographic factors (age, gender, marital status) most strongly influence customer preferences for specific loan products?\")\n",
    "print(complex_query_5)\n"
   ]
  },
  {
   "cell_type": "code",
   "execution_count": 22,
   "id": "1496c1eb",
   "metadata": {},
   "outputs": [
    {
     "name": "stdout",
     "output_type": "stream",
     "text": [
      "\n",
      "\n",
      "\u001b[1m> Entering new SQL Agent Executor chain...\u001b[0m\n",
      "\u001b[32;1m\u001b[1;3m\n",
      "Invoking: `sql_db_list_tables` with `{}`\n",
      "\n",
      "\n",
      "\u001b[0m\u001b[38;5;200m\u001b[1;3mAccounts, Cost_of_Capital, Customers, Installments, Products, Transactions\u001b[0m\u001b[32;1m\u001b[1;3m\n",
      "Invoking: `sql_db_schema` with `{'table_names': 'Products'}`\n",
      "\n",
      "\n",
      "\u001b[0m\u001b[33;1m\u001b[1;3m\n",
      "CREATE TABLE \"Products\" (\n",
      "\t\"Product_ID\" INTEGER, \n",
      "\t\"Product_Name\" TEXT, \n",
      "\t\"Product_Type\" TEXT, \n",
      "\t\"Interest_Rate\" REAL, \n",
      "\t\"Fees\" REAL, \n",
      "\t\"Launch_Date\" DATE, \n",
      "\t\"End_Date\" DATE, \n",
      "\tPRIMARY KEY (\"Product_ID\")\n",
      ")\n",
      "\n",
      "/*\n",
      "3 rows from Products table:\n",
      "Product_ID\tProduct_Name\tProduct_Type\tInterest_Rate\tFees\tLaunch_Date\tEnd_Date\n",
      "1\tThey Product\tCredit Card\t14.53\t222.85\t2022-09-02\t2028-09-19\n",
      "2\tBaby Product\tLoan\t7.62\t144.82\t2023-03-13\t2027-02-14\n",
      "3\tGas Product\tLoan\t5.53\t100.42\t2017-06-09\tNone\n",
      "*/\u001b[0m\u001b[32;1m\u001b[1;3m\n",
      "Invoking: `sql_db_query` with `{'query': 'SELECT Product_Name, Interest_Rate FROM Products ORDER BY Interest_Rate DESC LIMIT 10'}`\n",
      "responded: I can query the \"Products\" table to find the products with the highest interest rate by year. Let me construct the query for that.\n",
      "\n",
      "\u001b[0m\u001b[36;1m\u001b[1;3m[('They Product', 14.53), ('Small Product', 14.47), ('Before Product', 13.21), ('Painting Product', 12.62), ('Gun Product', 12.2), ('Hope Product', 12.03), ('To Product', 10.09), ('Bag Product', 9.26), ('Reveal Product', 8.8), ('Vote Product', 8.52)]\u001b[0m\u001b[32;1m\u001b[1;3mThe products with the highest interest rates are as follows:\n",
      "1. They Product - Interest Rate: 14.53\n",
      "2. Small Product - Interest Rate: 14.47\n",
      "3. Before Product - Interest Rate: 13.21\n",
      "4. Painting Product - Interest Rate: 12.62\n",
      "5. Gun Product - Interest Rate: 12.2\n",
      "6. Hope Product - Interest Rate: 12.03\n",
      "7. To Product - Interest Rate: 10.09\n",
      "8. Bag Product - Interest Rate: 9.26\n",
      "9. Reveal Product - Interest Rate: 8.8\n",
      "10. Vote Product - Interest Rate: 8.52\u001b[0m\n",
      "\n",
      "\u001b[1m> Finished chain.\u001b[0m\n",
      "The products with the highest interest rates are as follows:\n",
      "1. They Product - Interest Rate: 14.53\n",
      "2. Small Product - Interest Rate: 14.47\n",
      "3. Before Product - Interest Rate: 13.21\n",
      "4. Painting Product - Interest Rate: 12.62\n",
      "5. Gun Product - Interest Rate: 12.2\n",
      "6. Hope Product - Interest Rate: 12.03\n",
      "7. To Product - Interest Rate: 10.09\n",
      "8. Bag Product - Interest Rate: 9.26\n",
      "9. Reveal Product - Interest Rate: 8.8\n",
      "10. Vote Product - Interest Rate: 8.52\n"
     ]
    }
   ],
   "source": [
    "complex_query_9 = sql_agent.run(\"Which products have the highest interest rate by year?\")\n",
    "print(complex_query_9)\n"
   ]
  },
  {
   "cell_type": "markdown",
   "id": "f80ef156",
   "metadata": {},
   "source": [
    "\n",
    "## 🎯 Conclusion\n",
    "\n",
    "This notebook demonstrated how to extend the basic SQL Agent functionality to handle complex database queries. The examples showcase its potential for advanced data analysis tasks.\n",
    "\n",
    "🔗 **Next Steps:** Explore how SQL Agents can integrate with other tools for more dynamic applications, such as dashboards or real-time analytics.\n",
    "\n",
    "📖 **Further Reading:** Check out LangChain's documentation for additional capabilities and best practices.\n",
    "    "
   ]
  }
 ],
 "metadata": {
  "kernelspec": {
   "display_name": "baumbroker",
   "language": "python",
   "name": "python3"
  },
  "language_info": {
   "codemirror_mode": {
    "name": "ipython",
    "version": 3
   },
   "file_extension": ".py",
   "mimetype": "text/x-python",
   "name": "python",
   "nbconvert_exporter": "python",
   "pygments_lexer": "ipython3",
   "version": "3.12.8"
  }
 },
 "nbformat": 4,
 "nbformat_minor": 5
}
