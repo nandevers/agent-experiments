{
 "cells": [
  {
   "cell_type": "markdown",
   "id": "72bf31c0",
   "metadata": {},
   "source": [
    "\n",
    "# Using SQL Agents with LangChain\n",
    "\n",
    "This notebook demonstrates how to use LangChain's SQL Agent to query an SQL database. We'll use a mock banking dataset stored in SQLite to answer questions about customers, interest rates, and more.\n",
    "\n",
    "### Objectives:\n",
    "- Understand how to connect LangChain's SQL Agent to a database.\n",
    "- Learn to run natural language queries on the database.\n",
    "- Extract insights from database tables using an LLM-powered agent.\n",
    "\n",
    "Let's begin!\n"
   ]
  },
  {
   "cell_type": "markdown",
   "id": "9a18a8a9",
   "metadata": {},
   "source": [
    "\n",
    "## Step 1: Import Libraries\n",
    "\n",
    "We'll start by importing the necessary libraries for working with LangChain's SQL Agent. These include:\n",
    "- `langchain.agents` for creating the SQL agent.\n",
    "- `sqlite3` for database interaction.\n",
    "- `langchain.chat_models` for utilizing OpenAI's chat models.\n",
    "- `langchain.sql_database` for handling SQL databases.\n"
   ]
  },
  {
   "cell_type": "code",
   "execution_count": 2,
   "metadata": {},
   "outputs": [],
   "source": [
    "from langchain.agents import create_sql_agent\n",
    "import sqlite3\n",
    "from langchain.chat_models import ChatOpenAI\n",
    "from langchain.sql_database import SQLDatabase"
   ]
  },
  {
   "cell_type": "markdown",
   "id": "3f7225ad",
   "metadata": {},
   "source": [
    "\n",
    "## Step 2: Set Up the Database\n",
    "\n",
    "Here, we define the path to our SQLite database and initialize the `SQLDatabase` object, which allows LangChain to interact with the database.\n"
   ]
  },
  {
   "cell_type": "code",
   "execution_count": 18,
   "metadata": {},
   "outputs": [],
   "source": [
    "\n",
    "db_path = \"mock_bank_data.sqlite\"\n",
    "db = SQLDatabase.from_uri(f\"sqlite:///{db_path}\")\n"
   ]
  },
  {
   "cell_type": "markdown",
   "id": "7d214b67",
   "metadata": {},
   "source": [
    "\n",
    "## Step 3: Initialize the Language Model\n",
    "\n",
    "We'll use OpenAI's GPT-3.5-turbo model with a temperature of 0.0 to ensure deterministic responses. This model powers the SQL agent.\n"
   ]
  },
  {
   "cell_type": "code",
   "execution_count": 19,
   "metadata": {},
   "outputs": [],
   "source": [
    "llm = ChatOpenAI(model=\"gpt-3.5-turbo\", temperature=0.0)"
   ]
  },
  {
   "cell_type": "markdown",
   "id": "ae239a79",
   "metadata": {},
   "source": [
    "\n",
    "## Step 4: Create the SQL Agent\n",
    "\n",
    "Now, we create the SQL agent by combining the LLM and the database. The agent is responsible for translating natural language queries into SQL commands and executing them.\n"
   ]
  },
  {
   "cell_type": "code",
   "execution_count": 20,
   "metadata": {},
   "outputs": [],
   "source": [
    "sql_agent = create_sql_agent(\n",
    "        llm=llm,\n",
    "        db=db,\n",
    "        agent_type=\"openai-tools\",\n",
    "        verbose=True,\n",
    "    )"
   ]
  },
  {
   "cell_type": "markdown",
   "id": "f5a69982",
   "metadata": {},
   "source": [
    "\n",
    "## Step 5: Query the Database\n",
    "\n",
    "Here are some examples of queries you can run using the SQL agent:\n",
    "1. How many customers are there in the database?\n",
    "2. What is the average interest rate by product type?\n",
    "3. What was the first payment default average in monetary values for overdue days > 30 in 2024?\n",
    "\n",
    "The agent automatically handles the SQL generation and execution for these queries.\n"
   ]
  },
  {
   "cell_type": "code",
   "execution_count": 39,
   "metadata": {},
   "outputs": [
    {
     "name": "stdout",
     "output_type": "stream",
     "text": [
      "\n",
      "\n",
      "\u001b[1m> Entering new SQL Agent Executor chain...\u001b[0m\n",
      "\u001b[32;1m\u001b[1;3m\n",
      "Invoking: `sql_db_list_tables` with `{}`\n",
      "\n",
      "\n",
      "\u001b[0m\u001b[38;5;200m\u001b[1;3mcustomers, products, transactions\u001b[0m\u001b[32;1m\u001b[1;3m\n",
      "Invoking: `sql_db_schema` with `{'table_names': 'customers'}`\n",
      "\n",
      "\n",
      "\u001b[0m\u001b[33;1m\u001b[1;3m\n",
      "CREATE TABLE customers (\n",
      "\tid INTEGER, \n",
      "\tname TEXT, \n",
      "\tage INTEGER, \n",
      "\tgender TEXT, \n",
      "\tincome REAL, \n",
      "\temployment_status TEXT, \n",
      "\teducation_level TEXT, \n",
      "\tmarital_status TEXT, \n",
      "\tdependents INTEGER, \n",
      "\tresidential_status TEXT, \n",
      "\tcity TEXT, \n",
      "\tPRIMARY KEY (id)\n",
      ")\n",
      "\n",
      "/*\n",
      "3 rows from customers table:\n",
      "id\tname\tage\tgender\tincome\temployment_status\teducation_level\tmarital_status\tdependents\tresidential_status\tcity\n",
      "1\tCalvin Wilson\t23\tFemale\t21294.18\tUnemployed\tHigh School\tWidowed\t0\tRented\tNew Sheilashire\n",
      "2\tJoseph Marks\t74\tFemale\t111262.39\tEmployed\tHigh School\tSingle\t1\tRented\tJoetown\n",
      "3\tBrandon Williams\t51\tFemale\t119563.97\tEmployed\tBachelor\tDivorced\t0\tRented\tDawnfurt\n",
      "*/\u001b[0m\u001b[32;1m\u001b[1;3m\n",
      "Invoking: `sql_db_query` with `{'query': 'SELECT COUNT(*) AS total_customers FROM customers'}`\n",
      "\n",
      "\n",
      "\u001b[0m\u001b[36;1m\u001b[1;3m[(1000,)]\u001b[0m\u001b[32;1m\u001b[1;3mThere are 1000 customers in the database.\u001b[0m\n",
      "\n",
      "\u001b[1m> Finished chain.\u001b[0m\n",
      "There are 1000 customers in the database.\n"
     ]
    }
   ],
   "source": [
    "n_customers = sql_agent.run(\"How many customers are there?\")\n",
    "print(n_customers)"
   ]
  },
  {
   "cell_type": "code",
   "execution_count": 41,
   "metadata": {},
   "outputs": [
    {
     "name": "stdout",
     "output_type": "stream",
     "text": [
      "\n",
      "\n",
      "\u001b[1m> Entering new SQL Agent Executor chain...\u001b[0m\n",
      "\u001b[32;1m\u001b[1;3m\n",
      "Invoking: `sql_db_list_tables` with `{}`\n",
      "\n",
      "\n",
      "\u001b[0m\u001b[38;5;200m\u001b[1;3mcustomers, products, transactions\u001b[0m\u001b[32;1m\u001b[1;3m\n",
      "Invoking: `sql_db_schema` with `{'table_names': 'products'}`\n",
      "\n",
      "\n",
      "\u001b[0m\u001b[33;1m\u001b[1;3m\n",
      "CREATE TABLE products (\n",
      "\tid INTEGER, \n",
      "\tname TEXT, \n",
      "\ttype TEXT, \n",
      "\tinterest_rate REAL, \n",
      "\tcredit_limit INTEGER, \n",
      "\tloan_tenure INTEGER, \n",
      "\torigination_fee REAL, \n",
      "\tlate_payment_fee REAL, \n",
      "\tPRIMARY KEY (id)\n",
      ")\n",
      "\n",
      "/*\n",
      "3 rows from products table:\n",
      "id\tname\ttype\tinterest_rate\tcredit_limit\tloan_tenure\torigination_fee\tlate_payment_fee\n",
      "1\tShow Credit\tCredit Card\t9.87\t18695\t30\t302.08\t53.06\n",
      "2\tShake Credit\tPersonal Loan\t5.61\t9223\t21\t358.08\t111.67\n",
      "3\tWhatever Credit\tPersonal Loan\t9.51\t18164\t3\t433.03\t119.21\n",
      "*/\u001b[0m\u001b[32;1m\u001b[1;3m\n",
      "Invoking: `sql_db_query` with `{'query': 'SELECT type, AVG(interest_rate) AS average_interest_rate FROM products GROUP BY type'}`\n",
      "\n",
      "\n",
      "\u001b[0m\u001b[36;1m\u001b[1;3m[('Credit Card', 9.857272727272727), ('Mortgage', 12.213), ('Overdraft', 12.137857142857143), ('Personal Loan', 10.08)]\u001b[0m\u001b[32;1m\u001b[1;3mThe average interest rates by product type are as follows:\n",
      "- Credit Card: 9.86%\n",
      "- Mortgage: 12.21%\n",
      "- Overdraft: 12.14%\n",
      "- Personal Loan: 10.08%\u001b[0m\n",
      "\n",
      "\u001b[1m> Finished chain.\u001b[0m\n",
      "The average interest rates by product type are as follows:\n",
      "- Credit Card: 9.86%\n",
      "- Mortgage: 12.21%\n",
      "- Overdraft: 12.14%\n",
      "- Personal Loan: 10.08%\n"
     ]
    }
   ],
   "source": [
    "avg_interest = sql_agent.run(\"What is the average interest rate by product type?\")\n",
    "print(avg_interest)"
   ]
  },
  {
   "cell_type": "code",
   "execution_count": 42,
   "metadata": {},
   "outputs": [
    {
     "name": "stdout",
     "output_type": "stream",
     "text": [
      "\n",
      "\n",
      "\u001b[1m> Entering new SQL Agent Executor chain...\u001b[0m\n",
      "\u001b[32;1m\u001b[1;3m\n",
      "Invoking: `sql_db_list_tables` with `{}`\n",
      "\n",
      "\n",
      "\u001b[0m\u001b[38;5;200m\u001b[1;3mcustomers, products, transactions\u001b[0m\u001b[32;1m\u001b[1;3m\n",
      "Invoking: `sql_db_schema` with `{'table_names': 'transactions'}`\n",
      "\n",
      "\n",
      "\u001b[0m\u001b[33;1m\u001b[1;3m\n",
      "CREATE TABLE transactions (\n",
      "\tid INTEGER, \n",
      "\tcustomer_id INTEGER, \n",
      "\tproduct_id INTEGER, \n",
      "\ttransaction_date DATE, \n",
      "\tdue_amount REAL, \n",
      "\tpayment_amount REAL, \n",
      "\toverdue_days INTEGER, \n",
      "\tpayment_mode TEXT, \n",
      "\tPRIMARY KEY (id)\n",
      ")\n",
      "\n",
      "/*\n",
      "3 rows from transactions table:\n",
      "id\tcustomer_id\tproduct_id\ttransaction_date\tdue_amount\tpayment_amount\toverdue_days\tpayment_mode\n",
      "1\t575\t43\t2022-12-03\t3577.04\t3577.04\t0\tOnline\n",
      "2\t884\t5\t2015-11-13\t2644.88\t2644.88\t0\tCheck\n",
      "3\t414\t22\t2021-09-15\t948.25\t948.25\t0\tOnline\n",
      "*/\u001b[0m\u001b[32;1m\u001b[1;3m\n",
      "Invoking: `sql_db_query` with `{'query': \"SELECT AVG(payment_amount) AS avg_payment_default FROM transactions WHERE overdue_days > 30 AND transaction_date LIKE '2024%'\"}`\n",
      "\n",
      "\n",
      "\u001b[0m\u001b[36;1m\u001b[1;3m[(1568.0099999999998,)]\u001b[0m\u001b[32;1m\u001b[1;3mThe average payment default amount with overdue days greater than 30 in 2024 was approximately $1568.01.\u001b[0m\n",
      "\n",
      "\u001b[1m> Finished chain.\u001b[0m\n",
      "The average payment default amount with overdue days greater than 30 in 2024 was approximately $1568.01.\n"
     ]
    }
   ],
   "source": [
    "fpd = sql_agent.run(\"What was the first payment default average in monetary values with overdue days>30 in 2024?\") \n",
    "print(fpd)"
   ]
  },
  {
   "cell_type": "markdown",
   "id": "aa7a9eb9",
   "metadata": {},
   "source": [
    "\n",
    "## Conclusion\n",
    "\n",
    "This notebook demonstrated how to use LangChain's SQL Agent to interact with a database using natural language. Feel free to extend this by adding more complex queries or connecting to your own datasets!\n"
   ]
  }
 ],
 "metadata": {
  "kernelspec": {
   "display_name": "baumbroker",
   "language": "python",
   "name": "python3"
  },
  "language_info": {
   "codemirror_mode": {
    "name": "ipython",
    "version": 3
   },
   "file_extension": ".py",
   "mimetype": "text/x-python",
   "name": "python",
   "nbconvert_exporter": "python",
   "pygments_lexer": "ipython3",
   "version": "3.12.8"
  }
 },
 "nbformat": 4,
 "nbformat_minor": 2
}
