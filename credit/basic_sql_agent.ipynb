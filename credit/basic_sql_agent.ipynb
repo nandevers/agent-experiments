{
 "cells": [
  {
   "cell_type": "markdown",
   "id": "72bf31c0",
   "metadata": {},
   "source": [
    "\n",
    "# Using SQL Agents with LangChain\n",
    "\n",
    "This notebook demonstrates how to use LangChain's SQL Agent to query an SQL database. We'll use a mock banking dataset stored in SQLite to answer questions about customers, interest rates, and more.\n",
    "\n",
    "### Objectives:\n",
    "- Understand how to connect LangChain's SQL Agent to a database.\n",
    "- Learn to run natural language queries on the database.\n",
    "- Extract insights from database tables using an LLM-powered agent.\n",
    "\n",
    "Let's begin!\n"
   ]
  },
  {
   "cell_type": "markdown",
   "id": "9a18a8a9",
   "metadata": {},
   "source": [
    "\n",
    "## Step 1: Import Libraries\n",
    "\n",
    "We'll start by importing the necessary libraries for working with LangChain's SQL Agent. These include:\n",
    "- `langchain.agents` for creating the SQL agent.\n",
    "- `sqlite3` for database interaction.\n",
    "- `langchain.chat_models` for utilizing OpenAI's chat models.\n",
    "- `langchain.sql_database` for handling SQL databases.\n"
   ]
  },
  {
   "cell_type": "code",
   "execution_count": 1,
   "metadata": {},
   "outputs": [],
   "source": [
    "from langchain.agents import create_sql_agent\n",
    "import sqlite3\n",
    "from langchain.chat_models import ChatOpenAI\n",
    "from langchain.sql_database import SQLDatabase"
   ]
  },
  {
   "cell_type": "markdown",
   "id": "3f7225ad",
   "metadata": {},
   "source": [
    "\n",
    "## Step 2: Set Up the Database\n",
    "\n",
    "Here, we define the path to our SQLite database and initialize the `SQLDatabase` object, which allows LangChain to interact with the database.\n"
   ]
  },
  {
   "cell_type": "code",
   "execution_count": 2,
   "metadata": {},
   "outputs": [],
   "source": [
    "\n",
    "db_path = \"mock_bank_data.sqlite\"\n",
    "db = SQLDatabase.from_uri(f\"sqlite:///{db_path}\")\n"
   ]
  },
  {
   "cell_type": "markdown",
   "id": "7d214b67",
   "metadata": {},
   "source": [
    "\n",
    "## Step 3: Initialize the Language Model\n",
    "\n",
    "We'll use OpenAI's GPT-3.5-turbo model with a temperature of 0.0 to ensure deterministic responses. This model powers the SQL agent.\n"
   ]
  },
  {
   "cell_type": "code",
   "execution_count": 3,
   "metadata": {},
   "outputs": [
    {
     "name": "stderr",
     "output_type": "stream",
     "text": [
      "C:\\Users\\nande\\AppData\\Local\\Temp\\ipykernel_1136\\2335869711.py:1: LangChainDeprecationWarning: The class `ChatOpenAI` was deprecated in LangChain 0.0.10 and will be removed in 1.0. An updated version of the class exists in the :class:`~langchain-openai package and should be used instead. To use it run `pip install -U :class:`~langchain-openai` and import as `from :class:`~langchain_openai import ChatOpenAI``.\n",
      "  llm = ChatOpenAI(model=\"gpt-3.5-turbo\", temperature=0.0)\n"
     ]
    }
   ],
   "source": [
    "llm = ChatOpenAI(model=\"gpt-3.5-turbo\", temperature=0.0)"
   ]
  },
  {
   "cell_type": "markdown",
   "id": "ae239a79",
   "metadata": {},
   "source": [
    "\n",
    "## Step 4: Create the SQL Agent\n",
    "\n",
    "Now, we create the SQL agent by combining the LLM and the database. The agent is responsible for translating natural language queries into SQL commands and executing them.\n"
   ]
  },
  {
   "cell_type": "code",
   "execution_count": 4,
   "metadata": {},
   "outputs": [],
   "source": [
    "sql_agent = create_sql_agent(\n",
    "        llm=llm,\n",
    "        db=db,\n",
    "        agent_type=\"openai-tools\",\n",
    "        verbose=True,\n",
    "    )"
   ]
  },
  {
   "cell_type": "markdown",
   "id": "f5a69982",
   "metadata": {},
   "source": [
    "\n",
    "## Step 5: Query the Database\n",
    "\n",
    "Here are some examples of queries you can run using the SQL agent:\n",
    "1. How many customers are there in the database?\n",
    "2. What is the average interest rate by product type?\n",
    "3. What was the first payment default average in monetary values for overdue days > 30 in 2024?\n",
    "\n",
    "The agent automatically handles the SQL generation and execution for these queries.\n"
   ]
  },
  {
   "cell_type": "code",
   "execution_count": 5,
   "metadata": {},
   "outputs": [
    {
     "name": "stderr",
     "output_type": "stream",
     "text": [
      "C:\\Users\\nande\\AppData\\Local\\Temp\\ipykernel_1136\\2828441748.py:1: LangChainDeprecationWarning: The method `Chain.run` was deprecated in langchain 0.1.0 and will be removed in 1.0. Use :meth:`~invoke` instead.\n",
      "  n_customers = sql_agent.run(\"How many customers are there?\")\n"
     ]
    },
    {
     "name": "stdout",
     "output_type": "stream",
     "text": [
      "\n",
      "\n",
      "\u001b[1m> Entering new SQL Agent Executor chain...\u001b[0m\n",
      "\u001b[32;1m\u001b[1;3m\n",
      "Invoking: `sql_db_list_tables` with `{}`\n",
      "\n",
      "\n",
      "\u001b[0m\u001b[38;5;200m\u001b[1;3mAccounts, Cost_of_Capital, Customers, Installments, Products, Transactions\u001b[0m\u001b[32;1m\u001b[1;3m\n",
      "Invoking: `sql_db_schema` with `{'table_names': 'Customers'}`\n",
      "\n",
      "\n",
      "\u001b[0m\u001b[33;1m\u001b[1;3m\n",
      "CREATE TABLE \"Customers\" (\n",
      "\t\"Customer_ID\" INTEGER, \n",
      "\t\"Name\" TEXT NOT NULL, \n",
      "\t\"Date_of_Birth\" DATE, \n",
      "\t\"Gender\" TEXT, \n",
      "\t\"Address\" TEXT, \n",
      "\t\"Phone_Number\" TEXT, \n",
      "\t\"Email\" TEXT, \n",
      "\t\"Account_Open_Date\" DATE, \n",
      "\t\"Relationship_Status\" TEXT, \n",
      "\t\"Risk_Score\" INTEGER, \n",
      "\tPRIMARY KEY (\"Customer_ID\")\n",
      ")\n",
      "\n",
      "/*\n",
      "3 rows from Customers table:\n",
      "Customer_ID\tName\tDate_of_Birth\tGender\tAddress\tPhone_Number\tEmail\tAccount_Open_Date\tRelationship_Status\tRisk_Score\n",
      "1\tStacey Lowe\t1966-12-21\tMale\t1158 Flores Plain Suite 055\n",
      "Kristinachester, MT 63422\t(599)677-4230\tkristopher35@example.org\t2018-02-21\tInactive\t1\n",
      "2\tJodi Mclean\t1973-07-15\tMale\t5906 Thomas Meadows Suite 267\n",
      "Obrienfurt, WV 80928\t330-907-9590\tallendavid@example.org\t2020-02-23\tInactive\t83\n",
      "3\tDavid Rangel\t1973-10-09\tMale\t13755 Sawyer Field Apt. 135\n",
      "Jamesfort, NJ 70461\t001-606-749-4300x64162\tismith@example.org\t2021-11-10\tInactive\t17\n",
      "*/\u001b[0m\u001b[32;1m\u001b[1;3m\n",
      "Invoking: `sql_db_query` with `{'query': 'SELECT COUNT(Customer_ID) AS Total_Customers FROM Customers'}`\n",
      "\n",
      "\n",
      "\u001b[0m\u001b[36;1m\u001b[1;3m[(100,)]\u001b[0m\u001b[32;1m\u001b[1;3mThere are 100 customers in the database.\u001b[0m\n",
      "\n",
      "\u001b[1m> Finished chain.\u001b[0m\n",
      "There are 100 customers in the database.\n"
     ]
    }
   ],
   "source": [
    "n_customers = sql_agent.run(\"How many customers are there?\")\n",
    "print(n_customers)"
   ]
  },
  {
   "cell_type": "code",
   "execution_count": 6,
   "metadata": {},
   "outputs": [
    {
     "name": "stdout",
     "output_type": "stream",
     "text": [
      "\n",
      "\n",
      "\u001b[1m> Entering new SQL Agent Executor chain...\u001b[0m\n",
      "\u001b[32;1m\u001b[1;3m\n",
      "Invoking: `sql_db_list_tables` with `{}`\n",
      "\n",
      "\n",
      "\u001b[0m\u001b[38;5;200m\u001b[1;3mAccounts, Cost_of_Capital, Customers, Installments, Products, Transactions\u001b[0m\u001b[32;1m\u001b[1;3m\n",
      "Invoking: `sql_db_schema` with `{'table_names': 'Products'}`\n",
      "\n",
      "\n",
      "\u001b[0m\u001b[33;1m\u001b[1;3m\n",
      "CREATE TABLE \"Products\" (\n",
      "\t\"Product_ID\" INTEGER, \n",
      "\t\"Product_Name\" TEXT, \n",
      "\t\"Product_Type\" TEXT, \n",
      "\t\"Interest_Rate\" REAL, \n",
      "\t\"Fees\" REAL, \n",
      "\t\"Launch_Date\" DATE, \n",
      "\t\"End_Date\" DATE, \n",
      "\tPRIMARY KEY (\"Product_ID\")\n",
      ")\n",
      "\n",
      "/*\n",
      "3 rows from Products table:\n",
      "Product_ID\tProduct_Name\tProduct_Type\tInterest_Rate\tFees\tLaunch_Date\tEnd_Date\n",
      "1\tCost Product\tLoan\t13.94\t380.72\t2020-06-15\t2026-11-21\n",
      "2\tInteresting Product\tLoan\t7.5\t280.45\t2015-07-09\tNone\n",
      "3\tAudience Product\tSavings Plan\t2.31\t292.28\t2017-01-19\t2025-07-17\n",
      "*/\u001b[0m\u001b[32;1m\u001b[1;3m\n",
      "Invoking: `sql_db_query` with `{'query': 'SELECT Product_Type, AVG(Interest_Rate) AS Average_Interest_Rate FROM Products GROUP BY Product_Type'}`\n",
      "\n",
      "\n",
      "\u001b[0m\u001b[36;1m\u001b[1;3m[('Credit Card', 6.108888888888889), ('Loan', 9.148333333333333), ('Savings Plan', 6.944)]\u001b[0m\u001b[32;1m\u001b[1;3mThe average interest rates by product type are as follows:\n",
      "- Credit Card: 6.11%\n",
      "- Loan: 9.15%\n",
      "- Savings Plan: 6.94%\u001b[0m\n",
      "\n",
      "\u001b[1m> Finished chain.\u001b[0m\n",
      "The average interest rates by product type are as follows:\n",
      "- Credit Card: 6.11%\n",
      "- Loan: 9.15%\n",
      "- Savings Plan: 6.94%\n"
     ]
    }
   ],
   "source": [
    "avg_interest = sql_agent.run(\"What is the average interest rate by product type?\")\n",
    "print(avg_interest)"
   ]
  },
  {
   "cell_type": "code",
   "execution_count": 7,
   "metadata": {},
   "outputs": [
    {
     "name": "stdout",
     "output_type": "stream",
     "text": [
      "\n",
      "\n",
      "\u001b[1m> Entering new SQL Agent Executor chain...\u001b[0m\n",
      "\u001b[32;1m\u001b[1;3m\n",
      "Invoking: `sql_db_list_tables` with `{}`\n",
      "\n",
      "\n",
      "\u001b[0m\u001b[38;5;200m\u001b[1;3mAccounts, Cost_of_Capital, Customers, Installments, Products, Transactions\u001b[0m\u001b[32;1m\u001b[1;3m\n",
      "Invoking: `sql_db_schema` with `{'table_names': 'Transactions, Installments'}`\n",
      "\n",
      "\n",
      "\u001b[0m\u001b[33;1m\u001b[1;3m\n",
      "CREATE TABLE \"Installments\" (\n",
      "\t\"Installment_ID\" INTEGER, \n",
      "\t\"Account_ID\" INTEGER, \n",
      "\t\"Product_ID\" INTEGER, \n",
      "\t\"Installment_Start_Date\" DATE, \n",
      "\t\"Installment_End_Date\" DATE, \n",
      "\t\"Installment_Amount\" REAL, \n",
      "\t\"Paid_Amount\" REAL, \n",
      "\t\"Remaining_Balance\" REAL, \n",
      "\tPRIMARY KEY (\"Installment_ID\"), \n",
      "\tFOREIGN KEY(\"Account_ID\") REFERENCES \"Accounts\" (\"Account_ID\"), \n",
      "\tFOREIGN KEY(\"Product_ID\") REFERENCES \"Products\" (\"Product_ID\")\n",
      ")\n",
      "\n",
      "/*\n",
      "3 rows from Installments table:\n",
      "Installment_ID\tAccount_ID\tProduct_ID\tInstallment_Start_Date\tInstallment_End_Date\tInstallment_Amount\tPaid_Amount\tRemaining_Balance\n",
      "1\t34\tData Product\t2024-02-07\t2024-04-12\t2015.24\t890.96\t1124.28\n",
      "2\t23\tInteresting Product\t2022-08-09\t2025-05-31\t3330.58\t2398.66\t931.9200000000001\n",
      "3\t79\tPaper Product\t2023-08-19\t2024-10-26\t1238.83\t539.74\t699.0899999999999\n",
      "*/\n",
      "\n",
      "\n",
      "CREATE TABLE \"Transactions\" (\n",
      "\t\"Transaction_ID\" INTEGER, \n",
      "\t\"Account_ID\" INTEGER, \n",
      "\t\"Transaction_Date\" DATE, \n",
      "\t\"Transaction_Type\" TEXT, \n",
      "\t\"Amount\" REAL, \n",
      "\t\"Balance_After_Transaction\" REAL, \n",
      "\t\"Merchant_Details\" TEXT, \n",
      "\tPRIMARY KEY (\"Transaction_ID\"), \n",
      "\tFOREIGN KEY(\"Account_ID\") REFERENCES \"Accounts\" (\"Account_ID\")\n",
      ")\n",
      "\n",
      "/*\n",
      "3 rows from Transactions table:\n",
      "Transaction_ID\tAccount_ID\tTransaction_Date\tTransaction_Type\tAmount\tBalance_After_Transaction\tMerchant_Details\n",
      "1\t79\t2023-11-29\tDeposit\t4423.3\t18298.32\tGarcia, Green and Reyes\n",
      "2\t61\t2021-04-30\tPayment\t8221.44\t60126.86\tDay, Mckinney and Wheeler\n",
      "3\t48\t2023-12-16\tDeposit\t3647.47\t93035.59\tHanson, Fuller and Brown\n",
      "*/\u001b[0m\u001b[32;1m\u001b[1;3m\n",
      "Invoking: `sql_db_query` with `{'query': \"SELECT AVG(Installment_Amount) AS Avg_Installment_Amount FROM Installments WHERE Installment_Start_Date >= '2024-01-01' AND Installment_Start_Date <= '2024-12-31' AND Remaining_Balance > 0 AND (julianday('now') - julianday(Installment_End_Date)) > 30\"}`\n",
      "\n",
      "\n",
      "\u001b[0m\u001b[36;1m\u001b[1;3m[(1346.5866666666668,)]\u001b[0m\u001b[32;1m\u001b[1;3mThe first payment default average in monetary values with overdue days greater than 30 in 2024 was approximately $1346.59.\u001b[0m\n",
      "\n",
      "\u001b[1m> Finished chain.\u001b[0m\n",
      "The first payment default average in monetary values with overdue days greater than 30 in 2024 was approximately $1346.59.\n"
     ]
    }
   ],
   "source": [
    "fpd = sql_agent.run(\"What was the first payment default average in monetary values with overdue days>30 in 2024?\") \n",
    "print(fpd)"
   ]
  },
  {
   "cell_type": "markdown",
   "id": "aa7a9eb9",
   "metadata": {},
   "source": [
    "\n",
    "## Conclusion\n",
    "\n",
    "This notebook demonstrated how to use LangChain's SQL Agent to interact with a database using natural language. Feel free to extend this by adding more complex queries or connecting to your own datasets!\n"
   ]
  }
 ],
 "metadata": {
  "kernelspec": {
   "display_name": "baumbroker",
   "language": "python",
   "name": "python3"
  },
  "language_info": {
   "codemirror_mode": {
    "name": "ipython",
    "version": 3
   },
   "file_extension": ".py",
   "mimetype": "text/x-python",
   "name": "python",
   "nbconvert_exporter": "python",
   "pygments_lexer": "ipython3",
   "version": "3.12.8"
  }
 },
 "nbformat": 4,
 "nbformat_minor": 2
}
